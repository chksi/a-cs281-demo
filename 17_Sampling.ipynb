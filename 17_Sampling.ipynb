{
  "nbformat": 4,
  "nbformat_minor": 0,
  "metadata": {
    "colab": {
      "name": "17-Sampling.ipynb",
      "version": "0.3.2",
      "provenance": [],
      "collapsed_sections": [],
      "include_colab_link": true
    },
    "kernelspec": {
      "name": "python3",
      "display_name": "Python 3"
    }
  },
  "cells": [
    {
      "cell_type": "markdown",
      "metadata": {
        "id": "view-in-github",
        "colab_type": "text"
      },
      "source": [
        "<a href=\"https://colab.research.google.com/github/harvard-ml-courses/a-cs281-demo/blob/master/17_Sampling.ipynb\" target=\"_parent\"><img src=\"https://colab.research.google.com/assets/colab-badge.svg\" alt=\"Open In Colab\"/></a>"
      ]
    },
    {
      "metadata": {
        "id": "zCZ0SZGGY_8p",
        "colab_type": "code",
        "colab": {}
      },
      "cell_type": "code",
      "source": [
        "!pip install -qU plotly torch daft opt-einsum networkx\n",
        "!rm -fr start; git clone --single-branch -b demos2018 -q https://github.com/harvard-ml-courses/cs281-demos start; cp -f start/cs281.py cs281.py\n",
        "\n"
      ],
      "execution_count": 0,
      "outputs": []
    },
    {
      "metadata": {
        "id": "5ExXNhTKZnEw",
        "colab_type": "code",
        "colab": {}
      },
      "cell_type": "code",
      "source": [
        "import torch\n",
        "import torch.distributions as ds\n",
        "import daft"
      ],
      "execution_count": 0,
      "outputs": []
    },
    {
      "metadata": {
        "id": "ZtNIqVhLwUCO",
        "colab_type": "code",
        "outputId": "26bfecb6-f925-488d-a3d2-d6793cb37320",
        "colab": {
          "base_uri": "https://localhost:8080/",
          "height": 401
        }
      },
      "cell_type": "code",
      "source": [
        "pgm = daft.PGM([4, 3])\n",
        "pgm.add_node(daft.Node(\"z11\", \"$z_{11}$\", 1, 1, observed=False))\n",
        "pgm.add_node(daft.Node(\"z12\", \"$z_{12}$\", 1, 2, observed=False))\n",
        "pgm.add_node(daft.Node(\"x\", \"$x$\", 2, 1, observed=True))\n",
        "pgm.add_node(daft.Node(\"z2\", \"$z_2$\", 3, 1, observed=False))\n",
        "\n",
        "pgm.add_edge(\"z11\", \"x\")\n",
        "pgm.add_edge(\"z12\", \"x\")\n",
        "pgm.add_edge(\"x\", \"z2\")\n",
        "\n",
        "pgm.render()\n",
        "pgm.figure.dpi=150"
      ],
      "execution_count": 0,
      "outputs": [
        {
          "output_type": "display_data",
          "data": {
            "image/png": "[encoded data removed]",
            "text/plain": [
              "<matplotlib.figure.Figure at 0x7ff6fc817278>"
            ]
          },
          "metadata": {
            "tags": []
          }
        }
      ]
    },
    {
      "metadata": {
        "id": "EKOKjBvsx1Pr",
        "colab_type": "code",
        "colab": {}
      },
      "cell_type": "code",
      "source": [
        "def cat(theta):\n",
        "    return ds.Categorical(logits=theta)\n",
        "\n",
        "def cat_s(theta, num_particles):\n",
        "    return ds.Categorical(logits=theta).sample(torch.Size([num_particles]))\n",
        "    "
      ],
      "execution_count": 0,
      "outputs": []
    },
    {
      "metadata": {
        "id": "H74f8NelvfeY",
        "colab_type": "code",
        "colab": {}
      },
      "cell_type": "code",
      "source": [
        "K = 3\n",
        "theta_z_11 = torch.rand(K)\n",
        "theta_z_12 =  torch.rand(K)\n",
        "theta_x = torch.rand(K, K, K)\n",
        "theta_z_2 = torch.rand(K, K)\n",
        "\n",
        "    "
      ],
      "execution_count": 0,
      "outputs": []
    },
    {
      "metadata": {
        "id": "I9PmRgVdxECV",
        "colab_type": "code",
        "colab": {}
      },
      "cell_type": "code",
      "source": [
        "def forward_sample(num_particles = 3):\n",
        "    \"or ancestral sampling\"\n",
        "    samples = torch.zeros([4, num_particles])\n",
        "    z_11 = cat_s(theta_z_11, num_particles)\n",
        "    z_12 = cat_s(theta_z_12, num_particles)\n",
        "    x = cat_s(theta_x[z_11, z_12], 1)\n",
        "    z_2 = cat_s(theta_z_2[x], 1)\n",
        "    samples[0] = z_11\n",
        "    samples[1] = z_12\n",
        "    samples[2] = x\n",
        "    samples[3] = z_2\n",
        "    return samples"
      ],
      "execution_count": 0,
      "outputs": []
    },
    {
      "metadata": {
        "id": "6EUhgeqixLJ_",
        "colab_type": "code",
        "colab": {}
      },
      "cell_type": "code",
      "source": [
        "# Method 1: Monte-Carlo / Forward\n",
        "monte_carlo = forward_sample(50)"
      ],
      "execution_count": 0,
      "outputs": []
    },
    {
      "metadata": {
        "id": "ZS9jU82E0ijD",
        "colab_type": "code",
        "colab": {}
      },
      "cell_type": "code",
      "source": [
        "# Method 2: Rejection sampling\n",
        "rejection = monte_carlo[:, monte_carlo[2] == 2]"
      ],
      "execution_count": 0,
      "outputs": []
    },
    {
      "metadata": {
        "id": "p7RbSwdw0tyb",
        "colab_type": "code",
        "colab": {}
      },
      "cell_type": "code",
      "source": [
        "# Method 3: Importance sampling / Likelihood Weighting\n",
        "def likelihood_weighting(X, num_particles = 3):\n",
        "    samples = torch.zeros([4, num_particles])\n",
        "    z_11 = cat_s(theta_z_11, num_particles)\n",
        "    z_12 = cat_s(theta_z_12, num_particles)\n",
        "\n",
        "    p_x = cat(theta_x[z_11, z_12])\n",
        "    x = X\n",
        "    w = p_x.log_prob(x).exp()\n",
        "    \n",
        "    z_2 = cat_s(theta_z_2[x], 1)\n",
        "    samples[0] = z_11\n",
        "    samples[1] = z_12\n",
        "    samples[2] = x\n",
        "    samples[3] = z_2\n",
        "    return samples, w"
      ],
      "execution_count": 0,
      "outputs": []
    },
    {
      "metadata": {
        "id": "kVw8Mek11sx5",
        "colab_type": "code",
        "colab": {}
      },
      "cell_type": "code",
      "source": [
        "samples, w = likelihood_weighting(torch.tensor([2]), 50)"
      ],
      "execution_count": 0,
      "outputs": []
    },
    {
      "metadata": {
        "id": "I52sVDf1062i",
        "colab_type": "code",
        "outputId": "ae969046-99ff-4426-de34-99c035c4916a",
        "colab": {
          "base_uri": "https://localhost:8080/",
          "height": 34
        }
      },
      "cell_type": "code",
      "source": [
        "print(samples.shape, w.shape)"
      ],
      "execution_count": 0,
      "outputs": [
        {
          "output_type": "stream",
          "text": [
            "torch.Size([4, 50]) torch.Size([50])\n"
          ],
          "name": "stdout"
        }
      ]
    }
  ]
}