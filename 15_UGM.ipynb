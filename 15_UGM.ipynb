{
  "nbformat": 4,
  "nbformat_minor": 0,
  "metadata": {
    "colab": {
      "name": "15-UGM.ipynb",
      "version": "0.3.2",
      "provenance": [],
      "collapsed_sections": [],
      "include_colab_link": true
    },
    "kernelspec": {
      "name": "python3",
      "display_name": "Python 3"
    }
  },
  "cells": [
    {
      "cell_type": "markdown",
      "metadata": {
        "id": "view-in-github",
        "colab_type": "text"
      },
      "source": [
        "<a href=\"https://colab.research.google.com/github/harvard-ml-courses/a-cs281-demo/blob/master/15_UGM.ipynb\" target=\"_parent\"><img src=\"https://colab.research.google.com/assets/colab-badge.svg\" alt=\"Open In Colab\"/></a>"
      ]
    },
    {
      "metadata": {
        "id": "coByG0NrJNmy",
        "colab_type": "text"
      },
      "cell_type": "markdown",
      "source": [
        "# 15 - Unidirected Graphical Models"
      ]
    },
    {
      "metadata": {
        "id": "SI3x5CEAJSyp",
        "colab_type": "code",
        "outputId": "4fff31e5-cb0f-4d10-8491-7f68f0445d15",
        "colab": {
          "base_uri": "https://localhost:8080/",
          "height": 54
        }
      },
      "cell_type": "code",
      "source": [
        "!pip install -qU plotly torch daft opt-einsum networkx\n",
        "!rm -fr start; git clone --single-branch -b demos2018 -q https://github.com/harvard-ml-courses/cs281-demos start; cp -f start/cs281.py cs281.py"
      ],
      "execution_count": 0,
      "outputs": [
        {
          "output_type": "stream",
          "text": [
            "tcmalloc: large alloc 1073750016 bytes == 0x59d7c000 @  0x7fadeae272a4 0x594e17 0x626104 0x51190a 0x4f5277 0x510c78 0x5119bd 0x4f5277 0x4f3338 0x510fb0 0x5119bd 0x4f5277 0x4f3338 0x510fb0 0x5119bd 0x4f5277 0x4f3338 0x510fb0 0x5119bd 0x4f6070 0x510c78 0x5119bd 0x4f5277 0x4f3338 0x510fb0 0x5119bd 0x4f6070 0x4f3338 0x510fb0 0x5119bd 0x4f6070\n"
          ],
          "name": "stdout"
        }
      ]
    },
    {
      "metadata": {
        "id": "TZKbfvQLJnFT",
        "colab_type": "code",
        "outputId": "d2655d96-5e87-43de-f0d5-9773b534feea",
        "colab": {
          "base_uri": "https://localhost:8080/",
          "height": 330
        }
      },
      "cell_type": "code",
      "source": [
        "import networkx as nx\n",
        "import matplotlib.pyplot as plt\n",
        "import torch\n",
        "G = nx.Graph()"
      ],
      "execution_count": 0,
      "outputs": [
        {
          "output_type": "error",
          "ename": "ModuleNotFoundError",
          "evalue": "ignored",
          "traceback": [
            "\u001b[0;31m---------------------------------------------------------------------------\u001b[0m",
            "\u001b[0;31mModuleNotFoundError\u001b[0m                       Traceback (most recent call last)",
            "\u001b[0;32m<ipython-input-1-55456a78570a>\u001b[0m in \u001b[0;36m<module>\u001b[0;34m()\u001b[0m\n\u001b[1;32m      1\u001b[0m \u001b[0;32mimport\u001b[0m \u001b[0mnetworkx\u001b[0m \u001b[0;32mas\u001b[0m \u001b[0mnx\u001b[0m\u001b[0;34m\u001b[0m\u001b[0;34m\u001b[0m\u001b[0m\n\u001b[1;32m      2\u001b[0m \u001b[0;32mimport\u001b[0m \u001b[0mmatplotlib\u001b[0m\u001b[0;34m.\u001b[0m\u001b[0mpyplot\u001b[0m \u001b[0;32mas\u001b[0m \u001b[0mplt\u001b[0m\u001b[0;34m\u001b[0m\u001b[0;34m\u001b[0m\u001b[0m\n\u001b[0;32m----> 3\u001b[0;31m \u001b[0;32mimport\u001b[0m \u001b[0mtorch\u001b[0m\u001b[0;34m\u001b[0m\u001b[0;34m\u001b[0m\u001b[0m\n\u001b[0m\u001b[1;32m      4\u001b[0m \u001b[0mG\u001b[0m \u001b[0;34m=\u001b[0m \u001b[0mnx\u001b[0m\u001b[0;34m.\u001b[0m\u001b[0mGraph\u001b[0m\u001b[0;34m(\u001b[0m\u001b[0;34m)\u001b[0m\u001b[0;34m\u001b[0m\u001b[0;34m\u001b[0m\u001b[0m\n",
            "\u001b[0;31mModuleNotFoundError\u001b[0m: No module named 'torch'",
            "",
            "\u001b[0;31m---------------------------------------------------------------------------\u001b[0;32m\nNOTE: If your import is failing due to a missing package, you can\nmanually install dependencies using either !pip or !apt.\n\nTo install torch, click the button below.\n\u001b[0;31m---------------------------------------------------------------------------\u001b[0m\n"
          ]
        }
      ]
    },
    {
      "metadata": {
        "id": "sljJam6FG77E",
        "colab_type": "code",
        "outputId": "9d1ee27f-d846-4ad6-a3a8-c7ec54c21dee",
        "colab": {
          "base_uri": "https://localhost:8080/",
          "height": 85
        }
      },
      "cell_type": "code",
      "source": [
        "# Matrix sum trick \n",
        "# Einstein Summation. \n",
        "x = torch.ones(5)\n",
        "y = torch.ones(4)\n",
        "print(x)\n",
        "print(y)\n",
        "print(torch.einsum(\"a,b->b\", [x, y]))\n",
        "print(torch.einsum(\"a,b->a\", [x, y]))"
      ],
      "execution_count": 0,
      "outputs": [
        {
          "output_type": "stream",
          "text": [
            "tensor([1., 1., 1., 1., 1.])\n",
            "tensor([1., 1., 1., 1.])\n",
            "tensor([5., 5., 5., 5.])\n",
            "tensor([4., 4., 4., 4., 4.])\n"
          ],
          "name": "stdout"
        }
      ]
    },
    {
      "metadata": {
        "id": "cYN--ifzLDar",
        "colab_type": "code",
        "colab": {}
      },
      "cell_type": "code",
      "source": [
        "psi = {}\n",
        "sizes = {\"a\": 10, \n",
        "         \"b\": 5, \n",
        "         \"c\": 20,\n",
        "         \"d\": 30,\n",
        "         \"e\": 40}"
      ],
      "execution_count": 0,
      "outputs": []
    },
    {
      "metadata": {
        "id": "QfQ4imPRKESF",
        "colab_type": "code",
        "colab": {}
      },
      "cell_type": "code",
      "source": [
        "# Unary potentials\n",
        "G.add_node(\"a\")\n",
        "psi[\"a\"] = torch.rand(sizes[\"a\"])\n",
        "\n",
        "G.add_node(\"b\")\n",
        "psi[\"b\"] = torch.rand(sizes[\"b\"])\n",
        "\n",
        "\n",
        "G.add_node(\"c\")\n",
        "psi[\"c\"] = torch.rand(sizes[\"c\"])\n",
        "\n",
        "G.add_node(\"d\")\n",
        "psi[\"d\"] = torch.rand(sizes[\"d\"])\n",
        "\n",
        "\n",
        "G.add_node(\"e\")\n",
        "psi[\"e\"] = torch.rand(sizes[\"e\"])\n"
      ],
      "execution_count": 0,
      "outputs": []
    },
    {
      "metadata": {
        "id": "UAr4sTgVaIiv",
        "colab_type": "code",
        "colab": {}
      },
      "cell_type": "code",
      "source": [
        "# Clique potentials\n",
        "G.add_edge(\"a\", \"b\")\n",
        "G.add_edge(\"a\", \"c\")\n",
        "G.add_edge(\"c\", \"b\")\n",
        "psi[\"abc\"] = torch.rand(sizes[\"a\"], sizes[\"b\"], sizes[\"c\"])\n",
        "\n",
        "\n",
        "G.add_edge(\"c\", \"d\")\n",
        "psi[\"cd\"] = torch.rand(sizes[\"c\"], sizes[\"d\"])\n",
        "\n",
        "\n",
        "G.add_edge(\"c\", \"e\")\n",
        "psi[\"ce\"] = torch.rand(sizes[\"c\"], sizes[\"e\"])\n"
      ],
      "execution_count": 0,
      "outputs": []
    },
    {
      "metadata": {
        "id": "aq2PgHVTKG52",
        "colab_type": "code",
        "outputId": "e9960910-3e79-41f9-c619-4357e573f333",
        "colab": {
          "base_uri": "https://localhost:8080/",
          "height": 444
        }
      },
      "cell_type": "code",
      "source": [
        "nx.draw(G, with_labels=True)"
      ],
      "execution_count": 0,
      "outputs": [
        {
          "output_type": "display_data",
          "data": {
            "image/png": "[encoded data removed]",
            "text/plain": [
              "<matplotlib.figure.Figure at 0x7f91aacdb940>"
            ]
          },
          "metadata": {
            "tags": []
          }
        }
      ]
    },
    {
      "metadata": {
        "id": "HWvKIbY3J9_U",
        "colab_type": "code",
        "outputId": "41a6cd12-63c2-4611-daaa-691a60669e34",
        "colab": {
          "base_uri": "https://localhost:8080/",
          "height": 51
        }
      },
      "cell_type": "code",
      "source": [
        "torch.einsum(\"a,b,c,d,e,abc,cd,ce->a\", \n",
        "             [psi[\"a\"], psi[\"b\"], psi[\"c\"], psi[\"d\"], psi[\"e\"], psi[\"abc\"], psi[\"cd\"], psi[\"ce\"]])"
      ],
      "execution_count": 0,
      "outputs": [
        {
          "output_type": "execute_result",
          "data": {
            "text/plain": [
              "tensor([113.5827, 129.6138, 171.6176, 563.8849, 748.7998, 581.9191, 949.3260,\n",
              "        899.4585, 214.6330, 824.9941])"
            ]
          },
          "metadata": {
            "tags": []
          },
          "execution_count": 8
        }
      ]
    },
    {
      "metadata": {
        "id": "r76eKvl-Nk-S",
        "colab_type": "text"
      },
      "cell_type": "markdown",
      "source": [
        "(See amazing einsum tutorial https://rockt.github.io/2018/04/30/einsum )"
      ]
    },
    {
      "metadata": {
        "id": "Pwr5bkXsMI05",
        "colab_type": "code",
        "outputId": "0a19ba2e-a1ce-45a4-e68f-e546cf16db02",
        "colab": {
          "base_uri": "https://localhost:8080/",
          "height": 51
        }
      },
      "cell_type": "code",
      "source": [
        "# Cutesy implementation\n",
        "torch.einsum(\",\".join(psi.keys()) + \"->a\", \n",
        "             list(psi.values()))"
      ],
      "execution_count": 0,
      "outputs": [
        {
          "output_type": "execute_result",
          "data": {
            "text/plain": [
              "tensor([113.5827, 129.6138, 171.6176, 563.8849, 748.7998, 581.9191, 949.3260,\n",
              "        899.4585, 214.6330, 824.9941])"
            ]
          },
          "metadata": {
            "tags": []
          },
          "execution_count": 9
        }
      ]
    },
    {
      "metadata": {
        "id": "4-c75SrFJzAb",
        "colab_type": "code",
        "colab": {}
      },
      "cell_type": "code",
      "source": [
        "# What is really happening?\n",
        "# Brute-Force\n",
        "total = 0\n",
        "for a in range(sizes[\"a\"]):\n",
        "    for b in range(sizes[\"b\"]):\n",
        "        for c in range(sizes[\"c\"]):\n",
        "            for d in range(sizes[\"d\"]):\n",
        "                for e in range(sizes[\"e\"]):\n",
        "                    total += psi[\"a\"][a] * psi[\"b\"][b] * psi[\"c\"][c] * psi[\"d\"][d] * psi[\"e\"][e] * psi[\"abc\"][a,b,c] * psi[\"cd\"][c, d] * psi[\"ce\"][c, e]"
      ],
      "execution_count": 0,
      "outputs": []
    },
    {
      "metadata": {
        "id": "sIUxBPOJPkEl",
        "colab_type": "code",
        "outputId": "f44c7c52-a39f-4bfb-a2ed-bdc4015da54e",
        "colab": {
          "base_uri": "https://localhost:8080/",
          "height": 34
        }
      },
      "cell_type": "code",
      "source": [
        "total"
      ],
      "execution_count": 0,
      "outputs": [
        {
          "output_type": "execute_result",
          "data": {
            "text/plain": [
              "tensor(5191.4873)"
            ]
          },
          "metadata": {
            "tags": []
          },
          "execution_count": 11
        }
      ]
    },
    {
      "metadata": {
        "id": "GgWll0INNezD",
        "colab_type": "code",
        "outputId": "8472869a-2f1a-4bba-fcbd-6a3b2ad9c069",
        "colab": {
          "base_uri": "https://localhost:8080/",
          "height": 527
        }
      },
      "cell_type": "code",
      "source": [
        "# Dynamic programming\n",
        "table = {}\n",
        "total = {}\n",
        "for c in range(sizes[\"c\"]):\n",
        "    ds = 0\n",
        "    es = 0\n",
        "    for d in range(sizes[\"d\"]):\n",
        "        ds += psi[\"d\"][d] * psi[\"cd\"][c, d]\n",
        "    for e in range(sizes[\"e\"]):\n",
        "        es += psi[\"e\"][e] * psi[\"ce\"][c, e]\n",
        "    table[c] = ds * es\n",
        "    print(ds)\n",
        "\n",
        "for a in range(sizes[\"a\"]):\n",
        "    total[a] = 0\n",
        "    for b in range(sizes[\"b\"]):\n",
        "        for c in range(sizes[\"c\"]):\n",
        "            total[a] += psi[\"a\"][a] * psi[\"b\"][b] * psi[\"abc\"][a,b,c] * psi[\"c\"][c] * table[c]                  \n",
        "total"
      ],
      "execution_count": 0,
      "outputs": [
        {
          "output_type": "stream",
          "text": [
            "tensor(6.2404)\n",
            "tensor(6.7964)\n",
            "tensor(6.9120)\n",
            "tensor(4.6440)\n",
            "tensor(6.8203)\n",
            "tensor(5.1265)\n",
            "tensor(7.0055)\n",
            "tensor(9.1019)\n",
            "tensor(7.0359)\n",
            "tensor(5.6653)\n",
            "tensor(5.8504)\n",
            "tensor(6.6202)\n",
            "tensor(6.0950)\n",
            "tensor(5.8959)\n",
            "tensor(6.2333)\n",
            "tensor(8.9158)\n",
            "tensor(6.2573)\n",
            "tensor(7.0358)\n",
            "tensor(6.9736)\n",
            "tensor(5.7229)\n"
          ],
          "name": "stdout"
        },
        {
          "output_type": "execute_result",
          "data": {
            "text/plain": [
              "{0: tensor(113.5827),\n",
              " 1: tensor(129.6138),\n",
              " 2: tensor(171.6176),\n",
              " 3: tensor(563.8849),\n",
              " 4: tensor(748.7997),\n",
              " 5: tensor(581.9191),\n",
              " 6: tensor(949.3261),\n",
              " 7: tensor(899.4587),\n",
              " 8: tensor(214.6330),\n",
              " 9: tensor(824.9941)}"
            ]
          },
          "metadata": {
            "tags": []
          },
          "execution_count": 15
        }
      ]
    },
    {
      "metadata": {
        "id": "bQL4IivaZsVA",
        "colab_type": "code",
        "colab": {}
      },
      "cell_type": "code",
      "source": [
        "import opt_einsum as oe"
      ],
      "execution_count": 0,
      "outputs": []
    },
    {
      "metadata": {
        "id": "Vjl3lyNcZ0d5",
        "colab_type": "code",
        "outputId": "f551ac6b-6af3-4e73-fde7-6e6445780acf",
        "colab": {
          "base_uri": "https://localhost:8080/",
          "height": 338
        }
      },
      "cell_type": "code",
      "source": [
        "print(oe.contract_path(\"a,b,c,d,e,abc,cd,ce->a\", \n",
        "                 psi[\"a\"], psi[\"b\"], psi[\"c\"], psi[\"d\"], psi[\"e\"], psi[\"abc\"], psi[\"cd\"], psi[\"ce\"])[1])"
      ],
      "execution_count": 0,
      "outputs": [
        {
          "output_type": "stream",
          "text": [
            "  Complete contraction:  a,b,c,d,e,abc,cd,ce->a\n",
            "         Naive scaling:  5\n",
            "     Optimized scaling:  3\n",
            "      Naive FLOP count:  9.600e+06\n",
            "  Optimized FLOP count:  5.250e+03\n",
            "   Theoretical speedup:  1828.571\n",
            "  Largest intermediate:  2.000e+02 elements\n",
            "--------------------------------------------------------------------------------\n",
            "scaling        BLAS                current                             remaining\n",
            "--------------------------------------------------------------------------------\n",
            "   2           GEMM                ce,e->c                   a,b,c,d,abc,cd,c->a\n",
            "   3    GEMV/EINSUM              abc,b->ac                      a,c,d,cd,c,ac->a\n",
            "   2           GEMM                cd,d->c                         a,c,c,ac,c->a\n",
            "   1          False                 c,c->c                           a,ac,c,c->a\n",
            "   1          False                 c,c->c                             a,ac,c->a\n",
            "   2           GEMM                c,ac->a                                a,a->a\n",
            "   1          False                 a,a->a                                  a->a\n"
          ],
          "name": "stdout"
        }
      ]
    },
    {
      "metadata": {
        "id": "U6AHv65sXWcF",
        "colab_type": "code",
        "colab": {}
      },
      "cell_type": "code",
      "source": [
        ""
      ],
      "execution_count": 0,
      "outputs": []
    }
  ]
}