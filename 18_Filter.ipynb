{
  "nbformat": 4,
  "nbformat_minor": 0,
  "metadata": {
    "colab": {
      "name": "18-Filter.ipynb",
      "version": "0.3.2",
      "provenance": [],
      "collapsed_sections": [],
      "include_colab_link": true
    },
    "kernelspec": {
      "name": "python3",
      "display_name": "Python 3"
    }
  },
  "cells": [
    {
      "cell_type": "markdown",
      "metadata": {
        "id": "view-in-github",
        "colab_type": "text"
      },
      "source": [
        "<a href=\"https://colab.research.google.com/github/harvard-ml-courses/a-cs281-demo/blob/master/18_Filter.ipynb\" target=\"_parent\"><img src=\"https://colab.research.google.com/assets/colab-badge.svg\" alt=\"Open In Colab\"/></a>"
      ]
    },
    {
      "metadata": {
        "id": "1PH8WirdW0PH",
        "colab_type": "code",
        "outputId": "4efd3c64-4039-4be5-bf24-b63726c39eec",
        "colab": {
          "base_uri": "https://localhost:8080/",
          "height": 53
        }
      },
      "cell_type": "code",
      "source": [
        "!pip install -qU plotly torch daft opt-einsum networkx\n",
        "!rm -fr start; git clone --single-branch -b demos2018 -q https://github.com/harvard-ml-courses/cs281-demos start; cp -f start/cs281.py cs281.py\n"
      ],
      "execution_count": 0,
      "outputs": [
        {
          "output_type": "stream",
          "text": [
            "tcmalloc: large alloc 1073750016 bytes == 0x59056000 @  0x7f99e74ab2a4 0x594e17 0x626104 0x51190a 0x4f5277 0x510c78 0x5119bd 0x4f5277 0x4f3338 0x510fb0 0x5119bd 0x4f5277 0x4f3338 0x510fb0 0x5119bd 0x4f5277 0x4f3338 0x510fb0 0x5119bd 0x4f6070 0x510c78 0x5119bd 0x4f5277 0x4f3338 0x510fb0 0x5119bd 0x4f6070 0x4f3338 0x510fb0 0x5119bd 0x4f6070\n"
          ],
          "name": "stdout"
        }
      ]
    },
    {
      "metadata": {
        "id": "mjjOL1vuXT5w",
        "colab_type": "code",
        "colab": {}
      },
      "cell_type": "code",
      "source": [
        "import torch\n",
        "import torch.distributions as ds\n",
        "import daft"
      ],
      "execution_count": 0,
      "outputs": []
    },
    {
      "metadata": {
        "id": "lDR0yRbIZm1F",
        "colab_type": "code",
        "colab": {}
      },
      "cell_type": "code",
      "source": [
        "# LDS Parameters\n",
        "Sigma = torch.eye(10).unsqueeze(0)\n",
        "Sigma2 = torch.eye(20).unsqueeze(0)\n",
        "A = torch.rand(10, 10)\n",
        "C = torch.rand(20, 10)"
      ],
      "execution_count": 0,
      "outputs": []
    },
    {
      "metadata": {
        "id": "HCIMjhdkW1V1",
        "colab_type": "code",
        "colab": {}
      },
      "cell_type": "code",
      "source": [
        "# Sample through LDS\n",
        "x = []\n",
        "z = [ds.MultivariateNormal(torch.rand(1, 10), Sigma).sample(torch.Size([5])).squeeze(1)]\n",
        "for t in range(10):\n",
        "    mu = torch.einsum(\"xz,bz->bx\", [C, z[-1]])\n",
        "    x.append(ds.MultivariateNormal(mu, Sigma2).sample())\n",
        "    mu2 = torch.einsum(\"xz,bz->bx\", [A, z[-1]])\n",
        "    z.append(ds.MultivariateNormal(mu2, Sigma).sample())"
      ],
      "execution_count": 0,
      "outputs": []
    },
    {
      "metadata": {
        "id": "imn7nQ35Zj5G",
        "colab_type": "code",
        "colab": {}
      },
      "cell_type": "code",
      "source": [
        "# Non-Linear LDS Parameters\n",
        "Sigma = torch.eye(10).unsqueeze(0)\n",
        "Sigma2 = torch.eye(20).unsqueeze(0)\n",
        "A = torch.rand(10, 10)\n",
        "C = torch.rand(30, 10)\n",
        "D = torch.rand(20, 30)"
      ],
      "execution_count": 0,
      "outputs": []
    },
    {
      "metadata": {
        "id": "pZlun0z8XsYi",
        "colab_type": "code",
        "colab": {}
      },
      "cell_type": "code",
      "source": [
        "# Sample through non-linear DS\n",
        "z = [ds.MultivariateNormal(torch.rand(1, 10), Sigma).sample(torch.Size([5])).squeeze(1)]\n",
        "for t in range(10):\n",
        "    h = torch.sigmoid(torch.einsum(\"xz,bz->bx\", [C, z[-1]]))\n",
        "    mu = torch.sigmoid(torch.einsum(\"bx,yx->by\", [h, D]))\n",
        "    x.append(ds.MultivariateNormal(mu, Sigma2).sample())\n",
        "    mu2 = torch.einsum(\"xz,bz->bx\", [A, z[-1]])\n",
        "    z.append(ds.MultivariateNormal(mu2, Sigma).sample())"
      ],
      "execution_count": 0,
      "outputs": []
    },
    {
      "metadata": {
        "id": "74MiQbByaGzo",
        "colab_type": "code",
        "colab": {}
      },
      "cell_type": "code",
      "source": [
        ""
      ],
      "execution_count": 0,
      "outputs": []
    }
  ]
}