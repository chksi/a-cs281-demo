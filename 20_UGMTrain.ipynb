{
  "nbformat": 4,
  "nbformat_minor": 0,
  "metadata": {
    "colab": {
      "name": "20-UGMTrain.ipynb",
      "version": "0.3.2",
      "provenance": [],
      "collapsed_sections": [],
      "include_colab_link": true
    },
    "kernelspec": {
      "name": "python3",
      "display_name": "Python 3"
    }
  },
  "cells": [
    {
      "cell_type": "markdown",
      "metadata": {
        "id": "view-in-github",
        "colab_type": "text"
      },
      "source": [
        "<a href=\"https://colab.research.google.com/github/harvard-ml-courses/a-cs281-demo/blob/master/20_UGMTrain.ipynb\" target=\"_parent\"><img src=\"https://colab.research.google.com/assets/colab-badge.svg\" alt=\"Open In Colab\"/></a>"
      ]
    },
    {
      "metadata": {
        "id": "U4aPsggYpRa9",
        "colab_type": "code",
        "colab": {}
      },
      "cell_type": "code",
      "source": [
        "!pip install -qU plotly torch daft opt-einsum networkx\n",
        "!rm -fr start; git clone --single-branch -b demos2018 -q https://github.com/harvard-ml-courses/cs281-demos start; cp -f start/cs281.py cs281.py"
      ],
      "execution_count": 0,
      "outputs": []
    },
    {
      "metadata": {
        "id": "NmRVQqOkpu-y",
        "colab_type": "code",
        "colab": {}
      },
      "cell_type": "code",
      "source": [
        "import opt_einsum as oe"
      ],
      "execution_count": 0,
      "outputs": []
    },
    {
      "metadata": {
        "id": "Byh73UddrFJ4",
        "colab_type": "code",
        "colab": {}
      },
      "cell_type": "code",
      "source": [
        "import networkx as nx\n",
        "import matplotlib.pyplot as plt\n",
        "import torch\n",
        "G = nx.Graph()"
      ],
      "execution_count": 0,
      "outputs": []
    },
    {
      "metadata": {
        "id": "Ppp2DsgvvscD",
        "colab_type": "text"
      },
      "cell_type": "markdown",
      "source": [
        "## Training Undirected Graphical Models\n"
      ]
    },
    {
      "metadata": {
        "id": "cYN--ifzLDar",
        "colab_type": "code",
        "colab": {}
      },
      "cell_type": "code",
      "source": [
        "psi = {}\n",
        "sizes = {\"a\": 10, \n",
        "         \"b\": 5, \n",
        "         \"c\": 20,\n",
        "         \"d\": 30,\n",
        "         \"e\": 40}\n",
        "\n"
      ],
      "execution_count": 0,
      "outputs": []
    },
    {
      "metadata": {
        "id": "ti7xIBOYx-G-",
        "colab_type": "code",
        "colab": {}
      },
      "cell_type": "code",
      "source": [
        ""
      ],
      "execution_count": 0,
      "outputs": []
    },
    {
      "metadata": {
        "id": "QfQ4imPRKESF",
        "colab_type": "code",
        "colab": {}
      },
      "cell_type": "code",
      "source": [
        "# Unary potentials\n",
        "G.add_node(\"a\")\n",
        "psi[\"a\"] = torch.rand(sizes[\"a\"])\n",
        "\n",
        "G.add_node(\"b\")\n",
        "psi[\"b\"] = torch.rand(sizes[\"b\"])\n",
        "\n",
        "\n",
        "G.add_node(\"c\")\n",
        "psi[\"c\"] = torch.rand(sizes[\"c\"])\n",
        "\n",
        "G.add_node(\"d\")\n",
        "psi[\"d\"] = torch.rand(sizes[\"d\"])\n",
        "\n",
        "\n",
        "G.add_node(\"e\")\n",
        "psi[\"e\"] = torch.rand(sizes[\"e\"])\n"
      ],
      "execution_count": 0,
      "outputs": []
    },
    {
      "metadata": {
        "id": "UAr4sTgVaIiv",
        "colab_type": "code",
        "colab": {}
      },
      "cell_type": "code",
      "source": [
        "# Clique potentials\n",
        "G.add_edge(\"a\", \"b\")\n",
        "G.add_edge(\"a\", \"c\")\n",
        "G.add_edge(\"c\", \"b\")\n",
        "psi[\"abc\"] = torch.rand(sizes[\"a\"], sizes[\"b\"], sizes[\"c\"])\n",
        "\n",
        "\n",
        "G.add_edge(\"c\", \"d\")\n",
        "psi[\"cd\"] = torch.rand(sizes[\"c\"], sizes[\"d\"])\n",
        "\n",
        "\n",
        "G.add_edge(\"c\", \"e\")\n",
        "psi[\"ce\"] = torch.rand(sizes[\"c\"], sizes[\"e\"])\n"
      ],
      "execution_count": 0,
      "outputs": []
    },
    {
      "metadata": {
        "id": "nQoZO5vSu2O2",
        "colab_type": "code",
        "colab": {}
      },
      "cell_type": "code",
      "source": [
        "\n",
        "# New -> Train psi functions\n",
        "for clique in psi:\n",
        "    psi[clique] = torch.tensor(psi[clique], requires_grad = True)"
      ],
      "execution_count": 0,
      "outputs": []
    },
    {
      "metadata": {
        "id": "aq2PgHVTKG52",
        "colab_type": "code",
        "outputId": "899c5767-9e44-4784-c819-0fe8bfaf3fc7",
        "colab": {
          "base_uri": "https://localhost:8080/",
          "height": 445
        }
      },
      "cell_type": "code",
      "source": [
        "nx.draw(G, with_labels=True)"
      ],
      "execution_count": 0,
      "outputs": [
        {
          "output_type": "display_data",
          "data": {
            "image/png": "[encoded data removed]",
            "text/plain": [
              "<matplotlib.figure.Figure at 0x7fac7f244d30>"
            ]
          },
          "metadata": {
            "tags": []
          }
        }
      ]
    },
    {
      "metadata": {
        "id": "K9CanL83qCjj",
        "colab_type": "code",
        "outputId": "0af8253a-8d16-4e06-af8b-41b267e41ffb",
        "colab": {
          "base_uri": "https://localhost:8080/",
          "height": 35
        }
      },
      "cell_type": "code",
      "source": [
        "# Compute the normalization term\n",
        "Z = torch.einsum(\"a,b,c,d,e,abc,cd,ce->\", \n",
        "             [psi[\"a\"], psi[\"b\"], psi[\"c\"], psi[\"d\"], psi[\"e\"], psi[\"abc\"], psi[\"cd\"], psi[\"ce\"]])\n",
        "Z"
      ],
      "execution_count": 0,
      "outputs": [
        {
          "output_type": "execute_result",
          "data": {
            "text/plain": [
              "tensor(1898.1833, grad_fn=<AsStridedBackward>)"
            ]
          },
          "metadata": {
            "tags": []
          },
          "execution_count": 81
        }
      ]
    },
    {
      "metadata": {
        "id": "HjA8StO3uAQp",
        "colab_type": "code",
        "colab": {}
      },
      "cell_type": "code",
      "source": [
        "\n",
        "def prob_assignment(K, Z):\n",
        "    score = 1\n",
        "    for clique in psi:\n",
        "        score *= psi[clique][tuple(K[var] for var in clique)]\n",
        "    return score / Z\n",
        "K = {\"a\" : 1, \"b\" : 2, \"c\" : 5, \"d\" : 4, \"e\" : 3}"
      ],
      "execution_count": 0,
      "outputs": []
    },
    {
      "metadata": {
        "id": "iXmBNG2ZuFsi",
        "colab_type": "code",
        "outputId": "689a4902-8760-45cc-c8e4-60267f53c800",
        "colab": {
          "base_uri": "https://localhost:8080/",
          "height": 35
        }
      },
      "cell_type": "code",
      "source": [
        "prob_assignment(K, Z)"
      ],
      "execution_count": 0,
      "outputs": [
        {
          "output_type": "execute_result",
          "data": {
            "text/plain": [
              "tensor(1.8638e-07, grad_fn=<DivBackward1>)"
            ]
          },
          "metadata": {
            "tags": []
          },
          "execution_count": 83
        }
      ]
    },
    {
      "metadata": {
        "id": "zGLVtOK_uuJO",
        "colab_type": "code",
        "colab": {}
      },
      "cell_type": "code",
      "source": [
        "mle = torch.log(prob_assignment(K, Z))\n",
        "mle.backward()"
      ],
      "execution_count": 0,
      "outputs": []
    },
    {
      "metadata": {
        "id": "3vZi2j11vBpY",
        "colab_type": "text"
      },
      "cell_type": "markdown",
      "source": [
        "## Manually Computing Marginals"
      ]
    },
    {
      "metadata": {
        "id": "UHNdj7BsrVDq",
        "colab_type": "code",
        "colab": {}
      },
      "cell_type": "code",
      "source": [
        "def marginals(psi):\n",
        "    network = \"a,b,c,d,e,abc,cd,ce\"\n",
        "    potentials = [psi[clique] for clique in psi]\n",
        "    p = {}\n",
        "    \n",
        "    # Turn on automatic dynamic programming\n",
        "    with oe.shared_intermediates():\n",
        "        Z = oe.contract(network + \"->\", *potentials, backend=\"torch\")\n",
        "        for clique in psi:\n",
        "            p[clique] = oe.contract(network + \"->\" + clique,\n",
        "                                    *potentials, backend=\"torch\") / Z\n",
        "    return p, Z"
      ],
      "execution_count": 0,
      "outputs": []
    },
    {
      "metadata": {
        "id": "LFHdfm4ssRjP",
        "colab_type": "code",
        "colab": {}
      },
      "cell_type": "code",
      "source": [
        "p, Z = marginals(psi)"
      ],
      "execution_count": 0,
      "outputs": []
    },
    {
      "metadata": {
        "id": "aUD9UZYGsh64",
        "colab_type": "code",
        "outputId": "fc79298a-f897-4bb6-f667-1619264c292f",
        "colab": {
          "base_uri": "https://localhost:8080/",
          "height": 8112
        }
      },
      "cell_type": "code",
      "source": [
        "p"
      ],
      "execution_count": 0,
      "outputs": [
        {
          "output_type": "execute_result",
          "data": {
            "text/plain": [
              "{'a': tensor([0.1116, 0.1586, 0.0633, 0.0227, 0.2152, 0.0132, 0.1407, 0.0545, 0.0359,\n",
              "         0.1843], grad_fn=<DivBackward1>),\n",
              " 'abc': tensor([[[5.9056e-04, 5.5241e-03, 3.5129e-03, 2.1306e-04, 1.2401e-03,\n",
              "           2.4094e-03, 4.4436e-04, 1.2076e-03, 2.3708e-03, 1.7754e-03,\n",
              "           5.3870e-05, 2.0912e-03, 1.5438e-04, 5.1315e-03, 1.2978e-03,\n",
              "           6.6639e-03, 1.5886e-03, 1.5056e-04, 1.4132e-03, 2.6321e-03],\n",
              "          [2.9733e-05, 4.2788e-03, 3.8008e-03, 9.6584e-04, 7.6903e-05,\n",
              "           3.6368e-03, 1.9895e-03, 2.7505e-04, 2.0526e-03, 1.3731e-03,\n",
              "           7.2862e-05, 1.3808e-03, 5.3825e-04, 5.0151e-03, 8.8800e-04,\n",
              "           1.1634e-04, 1.0058e-02, 2.5108e-04, 2.3219e-03, 6.9298e-03],\n",
              "          [1.7176e-04, 3.8090e-04, 1.6907e-04, 5.0142e-05, 2.7066e-04,\n",
              "           3.1255e-04, 2.9189e-05, 1.6023e-04, 7.0061e-04, 7.6497e-05,\n",
              "           7.3264e-06, 3.5638e-04, 1.0368e-04, 1.2161e-05, 5.1997e-05,\n",
              "           3.2579e-04, 7.3453e-04, 1.3177e-05, 6.0964e-05, 6.0760e-04],\n",
              "          [2.2195e-04, 3.6596e-04, 1.3023e-04, 1.0223e-04, 2.6654e-05,\n",
              "           1.3631e-04, 1.2725e-04, 1.3175e-04, 3.4077e-04, 3.3546e-04,\n",
              "           4.4198e-07, 4.1490e-04, 5.5620e-05, 2.8922e-04, 5.9021e-05,\n",
              "           8.0508e-05, 5.5815e-04, 1.6518e-06, 9.7505e-05, 4.3443e-05],\n",
              "          [3.1332e-04, 1.6431e-03, 1.6102e-04, 8.8026e-05, 8.7878e-04,\n",
              "           2.5367e-03, 1.3517e-04, 3.9047e-04, 1.8470e-03, 5.1472e-05,\n",
              "           8.1847e-06, 9.5556e-04, 1.8814e-05, 8.1281e-04, 1.0893e-04,\n",
              "           1.5892e-03, 2.2791e-03, 7.1981e-05, 6.7521e-04, 2.4211e-03]],\n",
              " \n",
              "         [[1.9557e-03, 3.6041e-03, 4.4644e-04, 1.5128e-03, 3.5365e-05,\n",
              "           7.9003e-03, 3.0328e-03, 1.4026e-03, 9.1630e-03, 2.1046e-03,\n",
              "           6.4675e-06, 3.2430e-03, 1.2556e-04, 6.2212e-03, 2.8195e-03,\n",
              "           6.3108e-03, 1.3705e-02, 2.3951e-04, 1.0438e-03, 6.5712e-04],\n",
              "          [1.4881e-03, 7.1199e-04, 4.8548e-03, 8.0750e-04, 2.6839e-03,\n",
              "           1.1878e-02, 4.0282e-03, 2.5305e-05, 4.7323e-03, 3.2707e-03,\n",
              "           8.7719e-05, 4.4995e-03, 4.0902e-04, 3.0910e-03, 1.9107e-03,\n",
              "           1.8476e-03, 7.5395e-03, 1.4384e-04, 1.0517e-03, 9.1552e-03],\n",
              "          [1.6394e-04, 7.2181e-04, 7.0026e-04, 9.8012e-05, 1.5830e-04,\n",
              "           3.5372e-04, 3.6739e-04, 1.5635e-05, 8.6895e-05, 3.7727e-04,\n",
              "           9.1440e-06, 5.4553e-04, 8.8680e-05, 6.6133e-04, 2.0312e-04,\n",
              "           3.4956e-04, 1.6608e-03, 2.1482e-05, 3.3329e-04, 9.2910e-04],\n",
              "          [1.3471e-04, 4.4007e-04, 2.0684e-04, 1.2716e-04, 4.7058e-05,\n",
              "           9.8549e-04, 1.6672e-05, 6.0245e-05, 4.6358e-04, 3.8939e-04,\n",
              "           1.1967e-06, 2.4844e-05, 1.0327e-04, 1.0750e-04, 4.0790e-05,\n",
              "           1.2460e-03, 2.7656e-05, 1.5287e-05, 1.0475e-04, 6.8354e-04],\n",
              "          [1.0365e-03, 1.0336e-03, 5.4271e-05, 9.4328e-05, 1.6906e-04,\n",
              "           2.4677e-03, 8.9040e-04, 6.4104e-04, 5.2084e-04, 6.9573e-04,\n",
              "           9.1240e-06, 5.4198e-05, 3.5210e-04, 1.6968e-03, 8.4752e-04,\n",
              "           2.7567e-03, 1.3361e-03, 1.0900e-04, 9.4460e-04, 2.5775e-05]],\n",
              " \n",
              "         [[2.8807e-04, 5.2788e-04, 1.6105e-03, 4.7784e-04, 9.7376e-04,\n",
              "           3.6144e-03, 1.3789e-03, 4.5667e-04, 4.2863e-03, 1.9238e-05,\n",
              "           2.0041e-05, 5.0659e-04, 8.1388e-06, 4.0474e-04, 2.0093e-04,\n",
              "           8.2888e-04, 5.7477e-03, 1.2468e-04, 8.9025e-04, 1.5880e-03],\n",
              "          [8.9911e-04, 1.8608e-03, 1.7490e-03, 5.0840e-04, 1.5427e-03,\n",
              "           4.4687e-04, 2.0575e-04, 2.8285e-04, 8.8637e-06, 1.6905e-03,\n",
              "           1.3254e-05, 1.3059e-03, 4.8605e-05, 2.7813e-03, 3.7165e-04,\n",
              "           2.2211e-03, 7.3105e-03, 7.4653e-05, 9.7277e-04, 3.1674e-03],\n",
              "          [1.2798e-04, 1.4270e-04, 3.3320e-04, 1.6631e-05, 9.3543e-08,\n",
              "           1.9463e-04, 8.9950e-05, 6.4957e-05, 2.6868e-04, 2.0475e-04,\n",
              "           3.7290e-06, 1.5981e-04, 5.9835e-06, 1.7939e-04, 6.2833e-05,\n",
              "           1.5155e-04, 8.9462e-05, 2.1855e-06, 7.9181e-08, 3.1077e-04],\n",
              "          [7.9014e-05, 2.1738e-04, 1.3046e-04, 4.9317e-06, 8.9756e-05,\n",
              "           4.8618e-06, 2.1092e-05, 4.8054e-05, 3.0151e-04, 1.9910e-04,\n",
              "           1.8385e-06, 2.0076e-04, 2.7558e-06, 1.6058e-05, 1.0353e-05,\n",
              "           6.4798e-05, 3.0814e-04, 2.8485e-06, 8.4179e-05, 3.0625e-04],\n",
              "          [3.2783e-04, 1.7872e-04, 1.8149e-04, 1.5857e-04, 3.7412e-04,\n",
              "           1.2275e-03, 1.5507e-04, 2.5471e-05, 7.9592e-04, 6.3478e-04,\n",
              "           2.7351e-06, 2.9042e-04, 7.6237e-05, 1.0513e-04, 3.3534e-04,\n",
              "           9.5696e-04, 2.3553e-04, 3.7443e-05, 3.4663e-04, 9.1382e-04]],\n",
              " \n",
              "         [[1.0140e-04, 1.3790e-04, 9.3745e-04, 9.4758e-05, 2.1248e-04,\n",
              "           1.2790e-04, 4.4624e-04, 2.5385e-04, 7.0895e-04, 6.6803e-04,\n",
              "           8.0777e-07, 2.0067e-04, 2.0427e-05, 8.8031e-04, 3.0844e-04,\n",
              "           4.2425e-04, 1.4835e-03, 2.7281e-05, 1.8257e-04, 1.6155e-04],\n",
              "          [3.5270e-04, 2.6555e-04, 5.2014e-04, 1.0815e-04, 1.8687e-04,\n",
              "           1.3485e-03, 1.3841e-04, 1.0642e-04, 1.3556e-03, 4.2549e-04,\n",
              "           9.1584e-06, 4.9637e-04, 8.8160e-05, 3.2684e-04, 3.7358e-04,\n",
              "           8.1662e-04, 2.5248e-03, 5.1387e-05, 9.9117e-05, 8.5052e-04],\n",
              "          [3.1462e-05, 8.0365e-05, 4.9089e-05, 2.1072e-05, 2.0545e-05,\n",
              "           1.4257e-04, 8.9577e-06, 2.5970e-05, 8.0156e-05, 7.0900e-05,\n",
              "           1.0536e-06, 7.3214e-05, 1.2244e-05, 1.0238e-04, 4.4282e-05,\n",
              "           2.7254e-05, 1.3325e-05, 4.8712e-06, 5.3566e-06, 8.2142e-05],\n",
              "          [3.9184e-05, 1.2293e-05, 4.9634e-05, 2.2352e-05, 2.7110e-05,\n",
              "           1.3565e-04, 2.0902e-05, 3.2295e-05, 1.6815e-04, 5.1161e-05,\n",
              "           1.0574e-06, 5.0251e-05, 1.8120e-05, 1.0609e-04, 2.1067e-05,\n",
              "           3.3292e-05, 1.2830e-04, 1.9008e-06, 3.9491e-05, 7.7321e-05],\n",
              "          [6.6569e-05, 3.5961e-04, 1.4067e-04, 2.6900e-05, 8.5205e-05,\n",
              "           6.5937e-05, 8.8863e-05, 5.3540e-05, 4.9369e-04, 1.4416e-04,\n",
              "           3.9978e-06, 6.0559e-05, 3.5493e-05, 2.9672e-04, 6.8177e-05,\n",
              "           2.8798e-04, 5.4921e-04, 8.9947e-06, 6.5569e-05, 9.0956e-05]],\n",
              " \n",
              "         [[1.0636e-03, 1.0006e-02, 6.9371e-03, 1.8425e-03, 5.6063e-04,\n",
              "           6.8209e-03, 4.7595e-03, 1.2827e-03, 8.2494e-03, 1.3664e-03,\n",
              "           1.1168e-04, 3.7231e-03, 1.2626e-03, 4.5480e-03, 5.3494e-04,\n",
              "           8.5556e-03, 1.3768e-02, 3.9220e-04, 2.1909e-03, 3.6303e-04],\n",
              "          [4.7944e-03, 3.7600e-03, 4.7962e-03, 1.7320e-03, 5.2241e-03,\n",
              "           9.4912e-03, 5.7649e-03, 3.4609e-04, 3.7646e-03, 6.6637e-03,\n",
              "           1.1058e-04, 2.1759e-03, 1.3617e-03, 2.9906e-03, 3.6040e-04,\n",
              "           1.4640e-02, 1.4114e-02, 5.0032e-05, 3.8440e-03, 5.6621e-03],\n",
              "          [1.9015e-04, 8.0003e-04, 3.7840e-04, 2.3039e-04, 1.5297e-04,\n",
              "           3.1891e-04, 3.4060e-04, 1.4366e-04, 5.0107e-04, 3.6009e-04,\n",
              "           7.3108e-07, 2.3228e-04, 4.3686e-05, 7.4136e-04, 5.4785e-05,\n",
              "           1.0201e-04, 1.7261e-03, 3.1893e-07, 3.9681e-04, 1.3803e-03],\n",
              "          [1.5422e-04, 6.8086e-04, 4.7295e-04, 8.0929e-05, 4.4959e-04,\n",
              "           1.3023e-03, 3.7736e-04, 6.1825e-05, 6.5589e-04, 7.1019e-04,\n",
              "           1.0556e-05, 2.0511e-04, 4.6371e-06, 1.3559e-04, 3.8309e-04,\n",
              "           1.5399e-03, 2.0976e-03, 1.4898e-05, 3.5983e-05, 5.7122e-05],\n",
              "          [4.6709e-04, 9.8354e-05, 1.8943e-03, 8.2340e-05, 4.1878e-04,\n",
              "           1.0666e-03, 1.0189e-03, 8.6037e-04, 2.9216e-03, 1.4521e-03,\n",
              "           2.7124e-05, 2.1321e-03, 1.2344e-04, 2.3769e-03, 9.5319e-04,\n",
              "           2.2123e-03, 6.1605e-03, 1.4507e-04, 1.8785e-04, 3.1186e-03]],\n",
              " \n",
              "         [[9.3915e-05, 1.8661e-04, 4.6361e-04, 2.7928e-05, 5.8652e-05,\n",
              "           3.6346e-04, 2.1439e-04, 1.6115e-04, 5.6193e-04, 1.2843e-04,\n",
              "           4.2519e-07, 4.0831e-04, 2.1733e-05, 3.0330e-04, 1.5687e-04,\n",
              "           2.5486e-04, 9.8984e-04, 1.2335e-05, 2.1064e-04, 3.7905e-04],\n",
              "          [2.0662e-04, 5.9264e-04, 6.6595e-04, 6.0575e-05, 9.0501e-05,\n",
              "           1.6465e-04, 3.4009e-04, 8.8936e-05, 5.4664e-04, 4.9856e-04,\n",
              "           1.2003e-06, 7.0605e-05, 5.1411e-05, 6.4258e-04, 1.6566e-04,\n",
              "           4.8088e-04, 8.4062e-04, 6.1393e-06, 4.9924e-06, 4.3924e-04],\n",
              "          [1.8136e-05, 1.6435e-05, 3.3381e-05, 1.2110e-06, 3.0630e-05,\n",
              "           6.2003e-05, 1.4439e-07, 1.3663e-05, 2.9464e-05, 2.7852e-05,\n",
              "           2.8663e-07, 2.1322e-05, 6.5679e-06, 5.2970e-05, 2.6394e-07,\n",
              "           5.6697e-06, 1.2096e-04, 3.1671e-06, 1.8151e-05, 6.9519e-05],\n",
              "          [1.3616e-05, 2.8853e-05, 8.7681e-06, 1.2409e-05, 4.7861e-06,\n",
              "           1.7274e-06, 9.4027e-07, 1.3491e-05, 6.6431e-05, 4.0797e-05,\n",
              "           5.9726e-07, 4.1867e-06, 2.4381e-06, 1.7022e-05, 2.5752e-05,\n",
              "           2.7067e-05, 1.2225e-04, 1.2530e-06, 6.6544e-06, 6.4659e-05],\n",
              "          [4.5682e-05, 1.8399e-04, 6.8718e-05, 1.9751e-05, 3.6312e-05,\n",
              "           1.8418e-04, 7.9249e-05, 1.6974e-05, 1.4176e-04, 2.0662e-05,\n",
              "           8.3264e-07, 3.3660e-05, 7.3137e-06, 7.7865e-05, 1.3350e-05,\n",
              "           8.8897e-05, 1.3931e-04, 8.5241e-06, 3.9644e-05, 5.0730e-05]],\n",
              " \n",
              "         [[2.2709e-03, 1.4645e-03, 2.7370e-03, 4.8204e-04, 5.9703e-04,\n",
              "           6.1346e-03, 7.9234e-04, 6.2831e-04, 2.7739e-03, 4.0012e-03,\n",
              "           1.2166e-05, 1.7847e-03, 5.1137e-04, 6.4755e-03, 1.6731e-03,\n",
              "           1.1923e-03, 8.3697e-03, 5.2988e-05, 2.1491e-03, 6.3675e-03],\n",
              "          [2.1989e-03, 8.1164e-03, 2.0515e-03, 3.2024e-04, 1.5974e-03,\n",
              "           4.4254e-03, 3.6197e-03, 3.3746e-04, 1.6342e-03, 5.4379e-03,\n",
              "           4.3108e-05, 4.1620e-04, 1.0017e-03, 4.2314e-03, 1.5108e-03,\n",
              "           1.5696e-03, 1.2253e-02, 3.4588e-05, 1.5376e-04, 7.2881e-03],\n",
              "          [7.2713e-05, 1.0134e-04, 6.3027e-04, 1.3882e-04, 2.3820e-05,\n",
              "           5.7496e-04, 2.9036e-04, 6.7450e-05, 9.7847e-04, 2.6377e-04,\n",
              "           3.9093e-06, 4.7247e-04, 6.3778e-05, 1.0939e-04, 2.3991e-04,\n",
              "           1.4131e-04, 1.0605e-03, 1.0551e-06, 1.7845e-04, 8.7353e-04],\n",
              "          [2.8166e-04, 4.2343e-04, 1.7461e-04, 2.2463e-05, 1.9213e-04,\n",
              "           6.6416e-04, 3.4643e-04, 4.1669e-05, 5.5198e-04, 2.3721e-05,\n",
              "           7.8591e-06, 1.6909e-04, 5.0343e-05, 4.0923e-04, 2.7471e-05,\n",
              "           9.3391e-04, 6.4498e-04, 1.8127e-05, 2.3180e-04, 1.2063e-04],\n",
              "          [3.8809e-04, 1.8866e-03, 5.0953e-05, 2.0478e-04, 3.6496e-04,\n",
              "           3.1297e-03, 3.8404e-04, 6.5542e-04, 9.4133e-04, 7.4394e-05,\n",
              "           1.2448e-05, 1.2904e-03, 2.9646e-04, 2.0369e-03, 1.7367e-04,\n",
              "           3.0085e-03, 4.0542e-03, 3.9109e-05, 3.4020e-04, 1.0161e-03]],\n",
              " \n",
              "         [[9.5662e-04, 4.9760e-04, 1.6006e-03, 4.0127e-04, 8.4049e-04,\n",
              "           3.7849e-03, 7.4066e-04, 9.6454e-05, 2.4576e-03, 9.0730e-04,\n",
              "           1.3366e-05, 9.1221e-04, 1.8042e-04, 7.1620e-04, 5.0105e-04,\n",
              "           8.9205e-04, 4.1479e-03, 1.3674e-05, 3.4916e-04, 1.1797e-03],\n",
              "          [2.4838e-04, 4.4336e-04, 1.8936e-03, 2.6042e-04, 1.3050e-03,\n",
              "           3.6937e-03, 6.6965e-04, 2.0879e-04, 3.3614e-03, 1.9177e-03,\n",
              "           3.6556e-06, 2.3328e-04, 1.7993e-05, 1.5164e-03, 6.5341e-04,\n",
              "           4.0748e-04, 2.1882e-03, 7.6161e-05, 2.4815e-04, 3.9720e-03],\n",
              "          [7.1417e-05, 2.0966e-04, 9.9773e-05, 3.4370e-05, 1.0421e-04,\n",
              "           2.8788e-04, 1.7468e-05, 5.8177e-05, 3.3713e-04, 8.5448e-05,\n",
              "           5.6328e-07, 1.0341e-04, 2.1528e-06, 2.9559e-04, 1.0465e-04,\n",
              "           2.3423e-05, 2.8519e-05, 9.1165e-06, 4.7819e-05, 1.2810e-04],\n",
              "          [3.7345e-05, 1.7508e-04, 2.4519e-04, 1.6900e-05, 8.9334e-07,\n",
              "           1.0892e-04, 4.9503e-05, 8.5135e-05, 2.7934e-04, 1.5915e-04,\n",
              "           2.5521e-06, 3.0175e-05, 8.5380e-06, 4.1634e-05, 5.1754e-05,\n",
              "           3.1153e-04, 4.8675e-04, 1.1045e-05, 1.4739e-05, 5.1941e-05],\n",
              "          [2.5250e-04, 4.4409e-04, 1.5843e-04, 1.0698e-04, 2.7725e-04,\n",
              "           1.1420e-03, 1.7475e-04, 5.2037e-05, 1.5841e-04, 4.3255e-04,\n",
              "           4.6811e-06, 5.1976e-04, 1.0344e-04, 6.2761e-04, 2.1017e-04,\n",
              "           4.7472e-07, 9.9080e-05, 1.0553e-05, 1.8600e-04, 8.0817e-04]],\n",
              " \n",
              "         [[3.7531e-04, 9.9362e-05, 1.7853e-04, 2.7326e-04, 8.0668e-04,\n",
              "           2.7095e-03, 8.8954e-04, 4.7114e-05, 7.1639e-04, 1.0221e-03,\n",
              "           1.1229e-05, 1.2291e-03, 1.9456e-04, 1.8278e-03, 2.4163e-04,\n",
              "           1.1002e-03, 1.4728e-03, 1.0670e-05, 4.5765e-04, 2.0960e-03],\n",
              "          [1.9773e-04, 4.9365e-04, 1.6518e-03, 4.4181e-05, 5.3712e-05,\n",
              "           2.1359e-03, 3.2665e-04, 3.4334e-04, 1.9093e-03, 1.0152e-04,\n",
              "           4.5950e-06, 1.1537e-03, 2.9644e-04, 1.0268e-03, 8.2423e-04,\n",
              "           6.3458e-04, 1.0135e-03, 5.2928e-05, 1.9779e-05, 5.2391e-04],\n",
              "          [4.0592e-05, 1.1367e-04, 1.1274e-04, 2.4645e-05, 5.0088e-05,\n",
              "           1.9640e-04, 1.6225e-05, 5.4898e-05, 8.7954e-05, 1.0511e-04,\n",
              "           1.7197e-06, 9.5340e-05, 3.2414e-05, 1.6934e-04, 1.9809e-05,\n",
              "           2.1029e-04, 1.4676e-04, 7.2427e-06, 6.8993e-05, 1.9990e-04],\n",
              "          [5.3080e-05, 2.0595e-04, 4.2699e-05, 8.4077e-06, 5.0526e-05,\n",
              "           3.1406e-05, 9.0615e-06, 2.5238e-05, 1.8812e-04, 3.2475e-05,\n",
              "           2.5073e-08, 9.9094e-05, 3.5773e-06, 1.4025e-04, 4.7081e-05,\n",
              "           1.2934e-04, 1.3373e-04, 4.6437e-06, 5.6602e-05, 5.8007e-07],\n",
              "          [1.9718e-05, 2.3890e-04, 6.7531e-05, 3.8597e-05, 1.9434e-04,\n",
              "           7.2345e-04, 7.5101e-05, 3.1424e-05, 1.6709e-04, 2.2166e-04,\n",
              "           1.9525e-06, 2.3022e-04, 8.3626e-05, 2.8851e-04, 7.6994e-05,\n",
              "           3.4601e-04, 6.6733e-04, 2.1997e-05, 1.9177e-04, 6.1205e-04]],\n",
              " \n",
              "         [[7.5310e-04, 5.9087e-03, 2.2820e-03, 1.8376e-04, 2.0923e-03,\n",
              "           4.6157e-03, 2.6380e-03, 2.4354e-04, 1.1474e-02, 2.9567e-03,\n",
              "           5.4985e-05, 3.8309e-03, 4.6050e-04, 4.5867e-03, 1.9635e-03,\n",
              "           6.1373e-03, 8.8993e-03, 3.1554e-05, 1.4765e-03, 2.4799e-03],\n",
              "          [6.6593e-06, 9.3546e-03, 4.6696e-03, 9.4646e-04, 3.4094e-03,\n",
              "           9.3448e-03, 2.4575e-03, 2.6942e-03, 8.9683e-04, 6.2972e-03,\n",
              "           4.2976e-05, 4.1437e-03, 1.1237e-03, 6.8213e-03, 5.5848e-04,\n",
              "           1.0233e-02, 6.4934e-03, 4.0538e-04, 3.3320e-03, 1.1857e-02],\n",
              "          [5.0660e-05, 3.7584e-04, 7.9177e-04, 2.8198e-05, 3.4230e-04,\n",
              "           9.8311e-04, 2.3042e-04, 2.0647e-04, 6.0026e-04, 4.6123e-04,\n",
              "           9.4219e-06, 4.7011e-04, 1.0726e-05, 9.5768e-04, 1.6195e-05,\n",
              "           1.2757e-04, 1.1968e-04, 3.8986e-05, 2.9402e-04, 6.0042e-04],\n",
              "          [2.2572e-04, 2.5236e-04, 4.2964e-04, 3.5245e-05, 4.5512e-05,\n",
              "           9.3517e-04, 1.4589e-04, 6.9228e-05, 4.9147e-04, 3.4268e-04,\n",
              "           2.2474e-06, 2.5670e-04, 5.4559e-05, 8.1880e-04, 2.7973e-04,\n",
              "           1.9900e-05, 2.0040e-04, 2.0180e-06, 8.2388e-06, 5.8919e-04],\n",
              "          [3.2371e-04, 2.6431e-03, 4.2391e-04, 4.8456e-04, 9.7726e-04,\n",
              "           1.6885e-03, 4.6014e-04, 3.7541e-04, 3.1123e-03, 1.4258e-03,\n",
              "           3.9637e-07, 6.0126e-04, 2.9260e-04, 1.5665e-03, 5.6165e-05,\n",
              "           3.2849e-03, 5.0809e-03, 9.2487e-05, 6.1163e-04, 7.2918e-04]]],\n",
              "        grad_fn=<DivBackward1>),\n",
              " 'b': tensor([0.3712, 0.4252, 0.0412, 0.0357, 0.1267], grad_fn=<DivBackward1>),\n",
              " 'c': tensor([0.0243, 0.0723, 0.0557, 0.0136, 0.0295, 0.1070, 0.0408, 0.0150, 0.0813,\n",
              "         0.0521, 0.0008, 0.0440, 0.0099, 0.0748, 0.0219, 0.0857, 0.1555, 0.0029,\n",
              "         0.0281, 0.0847], grad_fn=<DivBackward1>),\n",
              " 'cd': tensor([[7.5169e-05, 9.8498e-04, 8.8012e-05, 6.5907e-04, 2.4782e-03, 1.9592e-03,\n",
              "          8.3226e-05, 1.7869e-05, 7.9675e-05, 8.8009e-04, 1.2313e-03, 9.7859e-04,\n",
              "          2.3643e-03, 3.8746e-04, 3.0373e-03, 3.0884e-04, 2.7548e-04, 1.0410e-04,\n",
              "          1.3011e-03, 4.9526e-04, 1.0489e-05, 1.9061e-03, 3.1074e-04, 1.3354e-04,\n",
              "          1.4206e-03, 6.0385e-04, 4.8795e-04, 5.8402e-04, 4.3578e-04, 6.0959e-04],\n",
              "         [4.1088e-03, 4.5473e-03, 8.0584e-03, 2.5304e-03, 5.3385e-03, 1.5042e-03,\n",
              "          9.0786e-06, 3.0175e-05, 1.1088e-03, 1.1431e-03, 1.5694e-03, 3.6876e-04,\n",
              "          3.2429e-03, 4.7111e-04, 1.3876e-03, 9.4614e-03, 1.2515e-03, 8.2326e-04,\n",
              "          3.1545e-03, 2.0015e-03, 7.8377e-04, 5.8946e-03, 2.7385e-04, 6.8149e-04,\n",
              "          4.1272e-04, 1.5100e-03, 4.6688e-03, 3.5258e-03, 1.8380e-04, 2.2444e-03],\n",
              "         [2.8150e-03, 1.2049e-03, 2.2564e-03, 6.9190e-03, 9.7989e-04, 4.9806e-03,\n",
              "          1.5069e-04, 4.3617e-05, 7.9088e-04, 9.3817e-04, 2.8806e-04, 4.1356e-04,\n",
              "          3.1039e-04, 2.5125e-03, 3.0916e-03, 3.2592e-03, 5.5705e-03, 3.0794e-04,\n",
              "          3.0599e-04, 6.1905e-04, 1.1444e-03, 1.4474e-03, 1.7987e-03, 6.7086e-04,\n",
              "          2.3537e-03, 2.7789e-03, 3.6556e-03, 8.7148e-04, 1.0055e-03, 2.2655e-03],\n",
              "         [7.9425e-04, 5.7653e-04, 6.5071e-04, 1.5384e-04, 8.6290e-04, 9.8183e-04,\n",
              "          2.7961e-05, 2.2512e-05, 1.1366e-04, 3.0751e-04, 2.6904e-04, 6.2326e-04,\n",
              "          1.0273e-03, 5.2679e-04, 1.6441e-03, 7.9859e-04, 1.2865e-03, 1.1004e-05,\n",
              "          4.2531e-05, 4.1632e-04, 3.5874e-04, 6.5171e-05, 8.9968e-05, 3.9836e-05,\n",
              "          6.7793e-04, 7.9698e-05, 3.5282e-04, 7.0018e-04, 2.5032e-05, 1.1788e-04],\n",
              "         [1.2592e-03, 7.7091e-04, 1.7423e-03, 3.3523e-03, 5.0330e-04, 1.1582e-04,\n",
              "          1.0485e-04, 1.4191e-04, 8.2845e-05, 3.1646e-04, 4.4926e-05, 6.9694e-04,\n",
              "          1.5014e-03, 5.3403e-04, 1.8685e-03, 2.7962e-03, 2.5636e-03, 3.5521e-04,\n",
              "          8.4999e-04, 7.0380e-04, 6.9437e-04, 1.6072e-04, 2.6775e-04, 1.7145e-04,\n",
              "          1.1155e-03, 9.2319e-05, 1.5737e-03, 3.6590e-03, 8.3653e-04, 5.7576e-04],\n",
              "         [9.0000e-04, 2.5727e-03, 1.0682e-02, 4.6384e-03, 7.5369e-03, 9.9463e-03,\n",
              "          4.7377e-04, 7.3900e-04, 7.0562e-04, 3.6426e-03, 4.4964e-03, 6.9849e-03,\n",
              "          1.9975e-03, 1.6295e-03, 1.0511e-02, 1.6184e-03, 9.4594e-03, 1.6335e-03,\n",
              "          2.1969e-03, 2.6019e-03, 7.1343e-03, 2.3361e-04, 3.8551e-03, 4.2152e-04,\n",
              "          4.7896e-04, 2.1743e-03, 8.2052e-04, 2.7714e-03, 2.1170e-03, 2.0391e-03],\n",
              "         [1.5804e-03, 2.0838e-03, 1.0115e-03, 5.4663e-03, 8.8784e-05, 3.2148e-04,\n",
              "          1.5229e-04, 2.2837e-04, 2.2380e-04, 2.8618e-06, 1.2850e-03, 1.9353e-03,\n",
              "          1.4822e-03, 9.5971e-06, 1.3552e-03, 2.8326e-03, 4.2694e-03, 4.5970e-04,\n",
              "          1.7294e-03, 1.0912e-03, 2.1556e-03, 1.7864e-03, 2.1433e-04, 3.2022e-04,\n",
              "          2.0893e-03, 6.1410e-04, 1.9161e-03, 3.6490e-03, 4.3944e-04, 5.0830e-05],\n",
              "         [8.4127e-04, 6.0209e-04, 7.7284e-04, 1.9113e-05, 6.2651e-04, 1.1905e-03,\n",
              "          1.2695e-05, 9.3456e-05, 2.8597e-04, 4.2536e-04, 5.2090e-05, 1.1031e-03,\n",
              "          3.8656e-04, 3.1451e-04, 1.0498e-03, 9.6886e-04, 9.7727e-04, 4.7802e-05,\n",
              "          1.5104e-04, 4.1077e-04, 6.0566e-04, 9.1541e-04, 3.6601e-04, 4.4893e-05,\n",
              "          1.8548e-04, 6.2597e-04, 7.6799e-04, 9.2763e-05, 2.8360e-04, 7.5135e-04],\n",
              "         [5.9598e-03, 5.2359e-03, 6.8961e-03, 2.6948e-05, 5.3022e-03, 2.5761e-03,\n",
              "          1.7424e-04, 4.0107e-04, 1.9603e-03, 2.1460e-03, 1.8050e-03, 1.9174e-03,\n",
              "          7.7848e-03, 1.1959e-04, 6.0803e-03, 1.0049e-02, 4.7657e-04, 3.7614e-04,\n",
              "          3.0180e-04, 2.7278e-03, 9.7239e-04, 4.9732e-03, 9.5396e-04, 2.7640e-04,\n",
              "          4.5622e-05, 1.1433e-03, 4.0538e-03, 5.1522e-03, 2.2005e-04, 1.1940e-03],\n",
              "         [2.3427e-04, 1.8979e-03, 1.3308e-03, 3.7053e-03, 4.0186e-03, 1.9446e-03,\n",
              "          9.7670e-05, 1.5746e-04, 1.3014e-03, 7.7611e-04, 3.1026e-03, 1.3393e-03,\n",
              "          8.1379e-04, 4.8413e-04, 1.5116e-03, 5.2712e-03, 3.4660e-03, 6.5520e-04,\n",
              "          1.9677e-04, 2.5562e-04, 3.3097e-03, 2.4680e-03, 2.0800e-03, 5.9760e-04,\n",
              "          9.6993e-04, 6.0534e-04, 1.6195e-03, 3.6168e-03, 1.9515e-03, 2.3170e-03],\n",
              "         [2.9515e-06, 1.9987e-05, 2.3662e-05, 6.1368e-05, 2.2657e-05, 5.6190e-05,\n",
              "          1.6310e-06, 1.5933e-06, 1.7892e-05, 2.4849e-06, 3.2424e-05, 7.2691e-05,\n",
              "          1.7535e-05, 2.6686e-05, 8.8838e-05, 7.5295e-05, 2.7611e-05, 5.7648e-06,\n",
              "          1.2916e-06, 1.8536e-05, 3.9021e-05, 1.8552e-05, 1.1009e-05, 6.3830e-06,\n",
              "          5.6284e-06, 1.0943e-05, 1.0471e-06, 9.0574e-05, 1.5150e-05, 3.6488e-05],\n",
              "         [6.1939e-05, 6.8952e-05, 8.1322e-04, 5.9004e-03, 2.4383e-03, 3.2570e-03,\n",
              "          2.2340e-04, 2.1436e-04, 1.6252e-05, 1.2255e-03, 2.1692e-03, 1.4982e-03,\n",
              "          2.6265e-03, 1.1561e-03, 3.0026e-03, 3.6370e-03, 7.1107e-04, 9.1160e-05,\n",
              "          1.8977e-03, 9.4188e-04, 1.6593e-03, 2.6613e-04, 1.2698e-03, 1.9026e-04,\n",
              "          1.2507e-03, 2.0943e-03, 2.4151e-03, 6.8030e-04, 1.6102e-03, 5.7222e-04],\n",
              "         [2.2594e-04, 4.7733e-04, 3.5080e-04, 1.4413e-03, 3.3630e-04, 5.4604e-05,\n",
              "          9.8298e-06, 4.1532e-05, 1.7281e-04, 4.0981e-04, 5.7503e-04, 3.9699e-04,\n",
              "          8.9547e-05, 1.5337e-04, 1.3408e-03, 2.6810e-04, 8.4614e-04, 9.0152e-06,\n",
              "          2.1911e-04, 2.5580e-05, 1.5227e-04, 2.6593e-04, 2.5167e-04, 9.6931e-06,\n",
              "          5.2082e-05, 3.7225e-04, 8.8793e-04, 5.8765e-05, 3.6239e-04, 8.2951e-05],\n",
              "         [3.1465e-03, 2.7224e-03, 5.8424e-03, 7.4250e-03, 3.3182e-03, 3.3346e-03,\n",
              "          1.0443e-04, 4.9766e-04, 1.0656e-04, 1.9867e-03, 2.5896e-03, 6.6973e-04,\n",
              "          6.0950e-03, 2.3379e-03, 1.1777e-03, 5.6227e-03, 1.3709e-03, 6.3919e-04,\n",
              "          5.1989e-04, 1.2159e-03, 2.9479e-04, 5.3889e-03, 1.9705e-03, 7.0101e-04,\n",
              "          2.9292e-03, 3.4666e-04, 3.5069e-03, 3.9618e-03, 1.3726e-03, 3.5921e-03],\n",
              "         [3.8573e-04, 5.1608e-05, 5.9891e-04, 2.7336e-03, 2.9738e-04, 6.4396e-04,\n",
              "          5.7137e-06, 3.6643e-05, 4.5642e-04, 2.1110e-04, 5.2243e-04, 1.7485e-03,\n",
              "          5.3739e-04, 4.9158e-04, 5.0735e-04, 5.1612e-05, 2.5577e-03, 3.5493e-04,\n",
              "          6.5043e-04, 5.1367e-04, 5.8108e-04, 7.6427e-04, 4.0269e-04, 1.4999e-04,\n",
              "          7.0506e-04, 8.0613e-05, 2.1891e-03, 3.1364e-03, 3.9800e-04, 1.3799e-04],\n",
              "         [1.4717e-03, 4.2690e-03, 1.0678e-02, 1.0479e-04, 2.2114e-03, 6.0710e-03,\n",
              "          5.7380e-05, 2.2901e-04, 2.8103e-04, 1.6413e-03, 3.6754e-03, 4.1344e-03,\n",
              "          6.2308e-04, 2.1708e-03, 1.2778e-03, 5.5762e-03, 5.2016e-03, 1.1156e-03,\n",
              "          2.2218e-04, 3.3194e-03, 1.6325e-04, 1.7367e-03, 3.4219e-03, 8.8928e-04,\n",
              "          2.8925e-03, 8.0798e-05, 4.6252e-03, 9.3551e-03, 3.2589e-03, 4.9557e-03],\n",
              "         [7.5370e-03, 6.2364e-03, 7.7724e-03, 3.0047e-03, 1.0271e-02, 9.9808e-03,\n",
              "          4.8692e-04, 3.5024e-05, 2.9511e-04, 1.8110e-03, 1.1559e-03, 1.0765e-02,\n",
              "          9.8999e-03, 5.5195e-03, 6.1036e-03, 9.7022e-03, 8.6897e-03, 1.1829e-03,\n",
              "          4.2985e-03, 7.9562e-04, 4.9688e-03, 4.3570e-03, 4.6803e-04, 6.0066e-04,\n",
              "          4.8616e-03, 6.2496e-03, 1.3505e-02, 5.2545e-03, 2.5909e-03, 7.1196e-03],\n",
              "         [2.1528e-04, 1.3623e-04, 2.1089e-04, 1.7976e-04, 1.3568e-04, 2.8964e-04,\n",
              "          1.0391e-05, 2.2756e-05, 2.0508e-05, 8.9344e-05, 3.2845e-05, 1.1510e-04,\n",
              "          1.2450e-04, 9.5556e-05, 2.8775e-05, 1.2735e-04, 8.6178e-05, 4.4102e-05,\n",
              "          1.0411e-04, 3.3240e-05, 4.9447e-05, 2.5495e-04, 1.1095e-04, 2.3153e-05,\n",
              "          7.9752e-05, 5.8382e-05, 3.1021e-06, 7.0713e-05, 1.0485e-04, 6.4534e-05],\n",
              "         [1.6901e-03, 3.2166e-04, 3.0184e-04, 1.2359e-03, 9.6983e-04, 1.6801e-03,\n",
              "          7.2483e-05, 3.9890e-06, 3.3966e-04, 3.3950e-04, 1.1803e-03, 2.0747e-03,\n",
              "          1.4813e-03, 8.8680e-04, 1.9943e-03, 2.8372e-03, 2.1303e-03, 6.2808e-05,\n",
              "          2.5975e-04, 6.7672e-04, 3.1022e-04, 9.3156e-04, 4.1366e-04, 2.6146e-04,\n",
              "          7.6924e-04, 3.8726e-04, 1.7180e-03, 2.4025e-03, 2.9168e-05, 3.2256e-04],\n",
              "         [5.8365e-03, 4.2336e-03, 6.8853e-03, 3.6375e-03, 4.2656e-03, 6.3530e-03,\n",
              "          1.9204e-04, 6.0631e-04, 8.7484e-04, 1.2684e-04, 2.1285e-04, 7.5767e-04,\n",
              "          3.8770e-03, 2.8093e-03, 1.9978e-03, 1.7355e-03, 6.1375e-03, 1.1191e-03,\n",
              "          3.6849e-03, 2.5849e-03, 1.7451e-03, 2.3601e-03, 3.2659e-03, 7.1023e-04,\n",
              "          1.3012e-03, 6.2942e-05, 5.0057e-03, 8.0882e-03, 2.3530e-03, 1.8912e-03]],\n",
              "        grad_fn=<DivBackward1>),\n",
              " 'ce': tensor([[5.5475e-04, 6.8127e-04, 8.2696e-04, 2.3559e-04, 6.7684e-04, 2.6769e-04,\n",
              "          4.2269e-04, 5.2292e-04, 9.0395e-04, 7.7291e-04, 1.1327e-03, 1.4762e-04,\n",
              "          3.0140e-04, 4.0600e-04, 3.0497e-05, 4.2715e-04, 8.8486e-04, 9.2157e-04,\n",
              "          2.7383e-04, 1.8547e-04, 7.8115e-04, 1.6900e-03, 7.7995e-04, 1.1403e-04,\n",
              "          1.5994e-03, 4.0841e-04, 8.2716e-04, 6.8858e-04, 2.0136e-03, 7.5603e-04,\n",
              "          9.1904e-05, 1.7876e-03, 3.8056e-05, 2.7793e-04, 1.1512e-04, 2.7013e-05,\n",
              "          3.3047e-04, 9.6714e-04, 4.0018e-04, 2.1406e-05],\n",
              "         [1.4767e-03, 1.4496e-03, 3.7857e-03, 1.2210e-04, 1.8914e-03, 3.1496e-04,\n",
              "          2.7220e-04, 2.2508e-03, 4.8151e-03, 1.8700e-03, 1.6733e-04, 7.0603e-04,\n",
              "          7.5950e-04, 4.7939e-06, 3.7368e-03, 3.1020e-03, 4.9172e-03, 2.3552e-04,\n",
              "          4.0116e-04, 7.1064e-05, 1.6565e-03, 3.0157e-03, 5.1461e-03, 9.8567e-05,\n",
              "          2.0895e-03, 1.1392e-03, 9.0259e-04, 5.7472e-03, 1.3043e-03, 1.6878e-03,\n",
              "          6.5268e-04, 3.9929e-03, 7.3594e-04, 3.5289e-03, 8.2366e-04, 5.4133e-05,\n",
              "          5.7672e-04, 4.1121e-03, 2.2692e-03, 4.0637e-04],\n",
              "         [2.2950e-03, 1.7532e-03, 4.2154e-03, 5.2774e-05, 1.8600e-03, 4.7509e-04,\n",
              "          3.9998e-04, 2.3183e-04, 1.5881e-03, 2.1624e-03, 3.4916e-03, 7.0142e-05,\n",
              "          1.0398e-03, 1.0925e-03, 8.4846e-04, 2.9522e-03, 5.6495e-04, 1.0848e-03,\n",
              "          1.6817e-03, 1.0695e-03, 6.9171e-04, 3.3325e-03, 2.5554e-03, 4.3762e-04,\n",
              "          2.0134e-03, 1.5462e-04, 8.5596e-04, 4.1729e-03, 2.5722e-03, 1.4629e-03,\n",
              "          1.1090e-03, 3.0736e-03, 1.9065e-04, 2.9815e-04, 2.4948e-04, 1.7191e-05,\n",
              "          1.0569e-03, 2.2325e-03, 1.9629e-04, 1.4759e-04],\n",
              "         [4.5629e-04, 4.1743e-04, 5.2383e-04, 6.9284e-06, 3.0118e-04, 6.8996e-05,\n",
              "          8.1309e-06, 2.3179e-04, 6.2869e-04, 7.2039e-04, 2.7158e-04, 2.9679e-05,\n",
              "          8.3660e-05, 1.2231e-04, 5.7183e-04, 7.7955e-05, 3.3355e-04, 2.1147e-04,\n",
              "          3.2799e-04, 4.4999e-04, 9.6439e-04, 1.0855e-03, 6.8222e-04, 2.5684e-04,\n",
              "          8.9093e-05, 1.2772e-04, 3.3207e-04, 2.4206e-04, 7.3555e-04, 3.2960e-04,\n",
              "          3.5896e-05, 2.8583e-04, 2.6217e-04, 4.2746e-05, 1.2124e-04, 2.7472e-05,\n",
              "          3.4511e-04, 1.0271e-03, 7.4448e-04, 6.3501e-05],\n",
              "         [9.0648e-04, 9.5916e-04, 6.6693e-04, 1.4954e-06, 1.0121e-03, 1.1053e-04,\n",
              "          4.7401e-04, 8.1686e-04, 1.3734e-03, 6.8321e-05, 5.3239e-04, 2.5533e-04,\n",
              "          3.1905e-04, 6.0229e-04, 5.8314e-04, 1.0551e-03, 1.5152e-03, 3.9325e-04,\n",
              "          1.4302e-03, 1.9028e-03, 9.1419e-04, 2.3219e-03, 1.0368e-03, 1.4779e-04,\n",
              "          6.0913e-05, 7.7839e-05, 4.7324e-04, 1.0709e-03, 1.0316e-03, 3.8717e-04,\n",
              "          7.5754e-04, 1.2244e-03, 1.3268e-04, 7.0174e-04, 3.4858e-04, 1.9892e-05,\n",
              "          2.9819e-04, 1.5409e-03, 1.7612e-03, 1.6650e-04],\n",
              "         [2.6998e-03, 4.4980e-04, 2.0910e-03, 8.0060e-04, 1.2284e-03, 7.5834e-04,\n",
              "          1.2229e-03, 1.4319e-03, 4.2805e-03, 4.6923e-03, 2.3793e-03, 8.7947e-04,\n",
              "          6.9573e-04, 1.5458e-03, 3.4606e-03, 5.2145e-03, 4.9901e-03, 7.9469e-04,\n",
              "          5.3757e-03, 1.4426e-03, 7.0164e-03, 3.0288e-03, 7.3544e-03, 6.7533e-04,\n",
              "          6.3973e-03, 1.3215e-03, 1.5388e-03, 1.1439e-03, 3.9353e-03, 1.1035e-03,\n",
              "          1.3101e-04, 5.4829e-03, 1.1543e-03, 3.3379e-03, 1.2596e-03, 1.0022e-04,\n",
              "          4.6340e-03, 5.4198e-03, 5.1530e-03, 3.9012e-04],\n",
              "         [1.6040e-03, 1.1514e-03, 3.1523e-03, 2.2680e-04, 1.4135e-03, 3.2192e-04,\n",
              "          3.8833e-04, 4.0859e-07, 5.6901e-04, 7.7017e-04, 2.6787e-03, 9.7296e-05,\n",
              "          7.6162e-04, 7.0445e-05, 2.2828e-03, 3.9715e-04, 8.7731e-04, 7.1923e-04,\n",
              "          3.0991e-04, 1.1799e-03, 1.7817e-03, 9.8100e-04, 8.4515e-04, 1.3288e-04,\n",
              "          1.9805e-03, 5.6894e-04, 4.0860e-04, 4.3551e-04, 2.2920e-03, 1.2254e-03,\n",
              "          8.0660e-04, 2.4939e-03, 8.8183e-04, 1.6758e-03, 5.2814e-05, 6.3386e-05,\n",
              "          1.2832e-03, 1.9418e-03, 1.9667e-03, 5.4704e-05],\n",
              "         [5.5048e-04, 3.0109e-04, 9.6368e-04, 9.4114e-05, 2.4716e-04, 9.1157e-05,\n",
              "          1.7149e-04, 4.5986e-04, 7.2794e-04, 8.8270e-05, 2.0892e-05, 7.4951e-05,\n",
              "          6.6842e-05, 1.1192e-04, 1.0338e-04, 6.6857e-04, 7.9735e-04, 5.5543e-04,\n",
              "          3.5316e-04, 9.4708e-04, 1.1386e-03, 4.0146e-04, 1.0973e-03, 9.7282e-06,\n",
              "          4.2224e-04, 8.9643e-05, 4.6145e-04, 1.4009e-04, 2.0329e-04, 3.8709e-04,\n",
              "          2.5248e-04, 5.6081e-04, 2.0932e-04, 1.5203e-04, 4.8452e-05, 3.1681e-05,\n",
              "          6.7174e-04, 7.9723e-04, 4.9757e-04, 3.6571e-06],\n",
              "         [4.8559e-04, 9.9659e-04, 7.7338e-04, 5.7146e-04, 2.0995e-03, 3.2888e-04,\n",
              "          8.6983e-04, 1.5070e-03, 4.3119e-03, 3.7981e-04, 1.3354e-04, 2.5139e-04,\n",
              "          8.7281e-04, 1.2394e-03, 3.1653e-03, 4.2412e-03, 4.6005e-03, 2.5668e-03,\n",
              "          1.5288e-03, 8.8525e-04, 3.9078e-03, 5.7924e-03, 4.6588e-03, 1.2471e-03,\n",
              "          5.0055e-03, 4.6981e-04, 6.7815e-04, 2.8156e-04, 4.9857e-03, 2.2576e-03,\n",
              "          1.3060e-03, 1.5154e-03, 8.7468e-04, 3.1818e-03, 8.4842e-04, 2.6059e-05,\n",
              "          3.6671e-03, 5.1292e-03, 3.2604e-03, 3.9947e-04],\n",
              "         [5.8131e-05, 7.4532e-04, 9.1389e-04, 2.0061e-04, 1.5297e-03, 1.6633e-04,\n",
              "          4.0561e-04, 9.4595e-04, 2.1251e-03, 1.7402e-03, 3.8744e-03, 1.1561e-05,\n",
              "          1.1254e-04, 5.3423e-04, 3.6592e-03, 1.3890e-04, 8.6289e-04, 1.2942e-03,\n",
              "          3.1152e-03, 1.3773e-03, 4.1707e-03, 2.3155e-03, 3.0325e-03, 2.0911e-05,\n",
              "          6.4122e-05, 8.6994e-04, 7.3402e-04, 1.7702e-03, 4.7666e-03, 4.1186e-04,\n",
              "          1.9386e-04, 3.1806e-03, 1.5369e-04, 1.0465e-03, 3.5539e-04, 2.6178e-05,\n",
              "          8.4480e-04, 1.1095e-03, 3.1006e-03, 1.1717e-04],\n",
              "         [1.5935e-05, 2.8743e-06, 5.0073e-05, 3.1460e-07, 3.7239e-05, 8.1308e-06,\n",
              "          1.0481e-05, 1.4392e-05, 4.4948e-05, 4.1942e-05, 4.4304e-06, 4.3490e-06,\n",
              "          1.1233e-05, 1.4508e-06, 3.9551e-05, 9.4024e-06, 5.5132e-05, 4.2061e-07,\n",
              "          1.0447e-05, 4.2831e-05, 1.3964e-05, 1.7283e-05, 3.7968e-05, 6.2343e-06,\n",
              "          1.5163e-05, 9.0593e-06, 1.8450e-05, 5.1374e-05, 3.9282e-05, 5.3796e-06,\n",
              "          1.0690e-05, 3.6857e-05, 4.7168e-06, 3.7541e-05, 2.7756e-06, 1.0993e-07,\n",
              "          3.6152e-05, 3.8235e-05, 2.0966e-05, 4.1064e-06],\n",
              "         [1.4824e-03, 1.9654e-04, 3.1991e-03, 1.0350e-05, 2.0333e-03, 3.6487e-04,\n",
              "          3.0239e-04, 8.5888e-04, 2.5306e-03, 2.0912e-03, 2.6984e-03, 2.3946e-04,\n",
              "          7.7197e-04, 3.4936e-04, 3.9030e-04, 2.3527e-03, 2.4164e-04, 1.2904e-03,\n",
              "          1.1001e-04, 1.9094e-03, 1.5334e-03, 6.1149e-04, 1.2324e-03, 4.9392e-04,\n",
              "          1.6127e-03, 3.3493e-04, 1.6285e-03, 5.4945e-04, 3.0249e-03, 8.2366e-04,\n",
              "          2.0168e-05, 1.1412e-03, 9.3378e-04, 1.7329e-03, 2.9516e-04, 6.6937e-06,\n",
              "          1.0544e-03, 2.3496e-03, 1.0999e-03, 5.6559e-05],\n",
              "         [1.8094e-04, 1.0997e-04, 5.1158e-04, 4.5423e-05, 6.6938e-05, 4.9160e-05,\n",
              "          2.1889e-05, 5.2765e-05, 3.7354e-05, 3.2411e-04, 4.4938e-04, 7.8320e-05,\n",
              "          1.2810e-04, 1.0395e-04, 3.0490e-04, 3.4821e-04, 6.6835e-04, 3.3252e-04,\n",
              "          1.9872e-04, 1.2564e-04, 5.8748e-04, 6.2362e-04, 6.2418e-04, 9.9717e-05,\n",
              "          4.4847e-04, 1.0032e-04, 1.8911e-04, 9.2221e-05, 5.3105e-04, 1.9790e-04,\n",
              "          1.8964e-04, 6.1710e-04, 1.6074e-04, 2.4823e-04, 8.1575e-05, 1.8347e-05,\n",
              "          2.9192e-05, 3.4440e-04, 5.9105e-04, 2.7410e-05],\n",
              "         [2.3854e-03, 1.7078e-03, 6.2495e-03, 1.7355e-04, 5.0494e-04, 6.5116e-04,\n",
              "          9.1085e-04, 1.9457e-04, 1.6529e-03, 3.4197e-03, 4.7465e-03, 1.1059e-04,\n",
              "          9.7435e-04, 9.1132e-04, 1.4924e-03, 7.1176e-04, 5.5507e-03, 3.2115e-03,\n",
              "          8.3107e-04, 3.3523e-03, 9.1793e-04, 6.4731e-03, 2.9495e-03, 4.2205e-04,\n",
              "          6.2512e-03, 1.7296e-04, 3.2184e-03, 2.7465e-03, 1.5318e-03, 2.5692e-03,\n",
              "          1.4085e-03, 4.2713e-04, 6.2528e-04, 1.7262e-03, 1.0373e-03, 4.5069e-05,\n",
              "          6.2241e-04, 5.7287e-04, 8.9448e-04, 4.3300e-04],\n",
              "         [4.6314e-04, 4.5807e-04, 7.3673e-04, 1.3062e-04, 1.0921e-03, 2.4309e-04,\n",
              "          1.9802e-04, 1.2116e-04, 4.8351e-05, 3.9024e-04, 1.3704e-03, 1.6760e-04,\n",
              "          4.1532e-04, 9.5549e-05, 1.2803e-04, 1.1261e-03, 1.1478e-03, 6.5828e-04,\n",
              "          5.0097e-04, 6.7651e-04, 1.6216e-03, 8.6983e-04, 1.2125e-03, 6.0495e-05,\n",
              "          8.6134e-04, 2.6981e-04, 2.8713e-04, 4.4988e-04, 1.5096e-03, 1.5745e-04,\n",
              "          3.5608e-04, 4.8419e-04, 3.7757e-04, 9.9045e-04, 2.7189e-04, 3.4374e-05,\n",
              "          2.5097e-04, 9.8909e-04, 6.4960e-04, 3.0103e-05],\n",
              "         [9.6845e-04, 4.7656e-04, 5.3659e-03, 8.4363e-04, 2.5359e-03, 4.0145e-05,\n",
              "          7.5890e-04, 1.4410e-03, 3.0301e-03, 2.5383e-04, 1.7434e-03, 7.9738e-04,\n",
              "          1.7409e-03, 9.7518e-04, 5.1960e-03, 3.9532e-03, 1.5317e-03, 2.9791e-03,\n",
              "          4.7306e-03, 2.1188e-03, 5.4434e-03, 1.3805e-03, 6.7596e-03, 1.7417e-03,\n",
              "          1.4862e-03, 2.8710e-04, 8.4457e-04, 5.0483e-03, 1.8340e-03, 2.0518e-04,\n",
              "          1.6688e-03, 2.2504e-03, 1.2412e-04, 1.6591e-03, 9.7205e-04, 2.2178e-04,\n",
              "          5.4576e-05, 7.2063e-03, 4.6580e-03, 3.8396e-04],\n",
              "         [5.5209e-03, 3.7324e-03, 9.3046e-03, 5.3415e-04, 3.3018e-03, 1.7574e-04,\n",
              "          1.8833e-03, 1.7314e-03, 3.9645e-03, 6.3229e-03, 4.0333e-03, 1.3258e-03,\n",
              "          1.9396e-03, 2.9785e-03, 4.7084e-03, 1.0914e-02, 2.0370e-04, 2.8385e-03,\n",
              "          8.8569e-03, 4.9013e-03, 9.5330e-03, 1.1191e-02, 2.2204e-03, 3.1144e-03,\n",
              "          6.6383e-03, 4.7005e-04, 6.6087e-05, 2.1596e-03, 9.3130e-03, 1.9940e-03,\n",
              "          2.0693e-03, 7.0587e-03, 2.7945e-03, 5.6423e-03, 1.5390e-04, 2.6854e-04,\n",
              "          6.8814e-03, 2.5185e-03, 1.9434e-03, 3.1600e-04],\n",
              "         [9.3963e-05, 1.4068e-05, 1.5522e-04, 2.6469e-05, 5.0319e-06, 1.5953e-05,\n",
              "          2.7389e-05, 3.2472e-06, 1.0804e-04, 9.7335e-05, 2.2204e-04, 1.6819e-05,\n",
              "          8.9140e-06, 3.2025e-05, 2.2505e-04, 3.3745e-05, 1.8494e-04, 2.1209e-05,\n",
              "          1.1128e-04, 1.1411e-04, 1.3425e-04, 1.6491e-05, 1.8469e-04, 5.1258e-05,\n",
              "          5.9382e-05, 2.0619e-05, 1.2368e-05, 1.4800e-04, 2.6772e-04, 9.3234e-05,\n",
              "          1.5649e-05, 1.9149e-04, 1.5279e-06, 8.1557e-05, 3.9513e-05, 5.7704e-06,\n",
              "          9.5005e-06, 4.9716e-05, 5.0201e-06, 1.7447e-05],\n",
              "         [1.1065e-03, 3.4540e-04, 2.9417e-04, 3.9857e-05, 2.7925e-04, 1.5435e-04,\n",
              "          4.4868e-04, 5.1941e-04, 1.9115e-04, 6.1911e-04, 1.5005e-03, 1.0763e-04,\n",
              "          3.5797e-04, 2.0134e-04, 1.5336e-03, 8.9880e-04, 5.0451e-04, 3.0544e-04,\n",
              "          1.2358e-03, 1.3706e-04, 2.0156e-03, 2.2570e-03, 1.1630e-03, 2.4001e-04,\n",
              "          1.3007e-03, 6.0585e-05, 1.0932e-03, 1.0538e-03, 2.3672e-03, 4.2988e-04,\n",
              "          7.0831e-04, 1.5428e-03, 4.4106e-04, 1.2519e-03, 8.8913e-05, 3.2192e-05,\n",
              "          7.1947e-04, 2.4443e-04, 1.1765e-04, 1.7658e-04],\n",
              "         [3.4764e-03, 2.6842e-03, 1.0775e-03, 5.1543e-04, 5.7437e-03, 1.0375e-03,\n",
              "          1.4553e-03, 2.1791e-04, 2.2516e-03, 1.0454e-03, 7.4775e-03, 6.7745e-04,\n",
              "          7.6166e-04, 2.4609e-04, 3.5665e-03, 3.8713e-03, 6.4080e-03, 3.6966e-03,\n",
              "          7.1532e-04, 3.0627e-03, 4.4068e-03, 4.7910e-04, 1.5323e-03, 1.1660e-03,\n",
              "          3.5122e-03, 2.6736e-04, 2.1784e-04, 4.3445e-03, 5.3302e-03, 1.3202e-04,\n",
              "          3.6777e-04, 6.9264e-04, 1.9019e-03, 1.8417e-03, 1.4062e-03, 5.3851e-07,\n",
              "          4.1497e-03, 1.0641e-03, 1.4588e-03, 4.5193e-04]],\n",
              "        grad_fn=<DivBackward1>),\n",
              " 'd': tensor([0.0391, 0.0390, 0.0670, 0.0532, 0.0520, 0.0572, 0.0025, 0.0036, 0.0092,\n",
              "         0.0184, 0.0263, 0.0386, 0.0463, 0.0226, 0.0491, 0.0670, 0.0574, 0.0094,\n",
              "         0.0221, 0.0214, 0.0271, 0.0362, 0.0218, 0.0069, 0.0246, 0.0200, 0.0538,\n",
              "         0.0577, 0.0196, 0.0309], grad_fn=<DivBackward1>),\n",
              " 'e': tensor([0.0268, 0.0186, 0.0449, 0.0046, 0.0279, 0.0056, 0.0107, 0.0136, 0.0352,\n",
              "         0.0279, 0.0389, 0.0060, 0.0121, 0.0116, 0.0360, 0.0425, 0.0368, 0.0241,\n",
              "         0.0321, 0.0260, 0.0492, 0.0479, 0.0451, 0.0105, 0.0419, 0.0072, 0.0148,\n",
              "         0.0323, 0.0496, 0.0166, 0.0122, 0.0380, 0.0120, 0.0295, 0.0086, 0.0010,\n",
              "         0.0275, 0.0397, 0.0308, 0.0037], grad_fn=<DivBackward1>)}"
            ]
          },
          "metadata": {
            "tags": []
          },
          "execution_count": 87
        }
      ]
    }
  ]
}